{
 "cells": [
  {
   "cell_type": "markdown",
   "metadata": {
    "colab_type": "text",
    "id": "view-in-github"
   },
   "source": [
    "<a href=\"https://colab.research.google.com/github/umberH/PythonTutorial/blob/main/Python_Tutorial_2.ipynb\" target=\"_parent\"><img src=\"https://colab.research.google.com/assets/colab-badge.svg\" alt=\"Open In Colab\"/></a>"
   ]
  },
  {
   "cell_type": "markdown",
   "metadata": {
    "id": "dAlgeNHYxPP2"
   },
   "source": [
    "<img src=\"bigdatasociety.jfif\" alt=\"Drawing\" style=\"width: 250px;\"/>"
   ]
  },
  {
   "cell_type": "markdown",
   "metadata": {
    "id": "q7r9qtfGwnXg"
   },
   "source": [
    "# Python Tutorial with Google Colab (Part 2)"
   ]
  },
  {
   "cell_type": "markdown",
   "metadata": {
    "id": "HA2_QrzZwVKw"
   },
   "source": [
    "\n",
    "The main purpose of the notebook is to go through the basics of Python (2).\n",
    "This is the second Tutorial of the series. You can review the [previous \n",
    "session](https://github.com/umberH/PythonTutorial/blob/4601619fbd1009306796dc7501d929c65efa4810/PythonTutorial.ipynb). \n"
   ]
  },
  {
   "cell_type": "markdown",
   "metadata": {
    "id": "PigVKpkVxb63"
   },
   "source": [
    "This tutorial is developed by Ambreen Hanif (member of BigDataSociety, Macquarie University)."
   ]
  },
  {
   "cell_type": "markdown",
   "metadata": {
    "id": "gB3AqMaIx_Ua"
   },
   "source": [
    "###Quick Recap\n",
    "*  Introduction to Google Colab\n",
    "*  Introduction to Python\n",
    "*   Variables\n",
    "> Data Types and Operations\n",
    "*   Collections\n",
    "> Introduction to Collection Types and Operations (Container, List, DIctionaries, Tuples) \n",
    "* Decision Making\n",
    "* Using Loops  \n",
    "* Functions\n",
    "* Arrays\n"
   ]
  },
  {
   "cell_type": "markdown",
   "metadata": {
    "id": "8v-9TpQwyZSM"
   },
   "source": [
    "##This Session\n",
    "\n",
    "*   Add Package\n",
    "*   File Handling ( Google Drive, Local Machine) \n",
    "---\n",
    "###Numpy for Array Manipulation\n",
    "\n",
    "---\n",
    "*   Arrays\n",
    "*   Array Indenxing\n",
    "*  Array mathematics\n",
    "*  Data types\n",
    "---\n",
    "###Scipy\n",
    "---\n",
    "*   Introduction \n",
    "*   Distance computation \n",
    "\n",
    "\n",
    "---\n",
    "###Matplotlib\n",
    "---\n",
    "*   Plotting\n",
    "*   Subplot\n",
    "*   Images\n",
    "\n",
    "\n",
    "\n",
    "\n",
    "\n",
    "\n",
    "\n",
    "\n",
    "\n",
    "\n"
   ]
  },
  {
   "cell_type": "markdown",
   "metadata": {
    "id": "AKHMGtjr2MH9"
   },
   "source": [
    "###Package and/or Module"
   ]
  },
  {
   "cell_type": "markdown",
   "metadata": {
    "id": "CvFpXhIQyQ_P"
   },
   "source": [
    "####Module\n",
    "We have exisitng code available and we want to reuse the code in stead of reinventing the wheels. \n",
    "We use module to use the existing functionality. \n",
    "\n",
    "*   The module can be python code\n",
    "*   Code written in C and load dynamically to be used by python code. e.g. regular expression code (re)\n",
    "*   Built in module exist in interpreter. eg itertool  \n",
    "\n",
    "We can use all these types of module with importing functionality like in any other language. \n",
    "We can import in three different ways using import statements\n",
    " \n",
    "1.   import re\n",
    "2.   from packagename import module \n",
    "\n",
    "1.   Import numpy as nu\n",
    "\n",
    "\n",
    "###Package \n",
    "If we have more than one Module to use togather. We combine them to a package. \n",
    "So package has more than one module packaged togather in a hierarchical order. \n",
    "\n",
    "###How to install Package?\n",
    "Machine based installation instruction\n",
    "\n",
    "```\n",
    "conda install pandas\n",
    "```\n",
    "\n",
    "OR\n",
    "\n",
    "```\n",
    "pip install pandas\n",
    "```"
   ]
  },
  {
   "cell_type": "markdown",
   "metadata": {
    "id": "aya0gftP_Kqi"
   },
   "source": [
    "## The import Statement "
   ]
  },
  {
   "cell_type": "markdown",
   "metadata": {
    "id": "158rKSVMIAim"
   },
   "source": [
    "Module and Package "
   ]
  },
  {
   "cell_type": "markdown",
   "metadata": {
    "id": "K8F0VUTX-wO4"
   },
   "source": [
    "### import < module_name >"
   ]
  },
  {
   "cell_type": "code",
   "execution_count": null,
   "metadata": {
    "colab": {
     "base_uri": "https://localhost:8080/"
    },
    "id": "3chO5ECh-y-7",
    "outputId": "0577705e-8d62-4f82-b94a-0958f1ab5cc7"
   },
   "outputs": [
    {
     "data": {
      "text/plain": [
       "<function sys.call_tracing>"
      ]
     },
     "execution_count": 3,
     "metadata": {},
     "output_type": "execute_result"
    }
   ],
   "source": [
    "import sys\n",
    "sys.path"
   ]
  },
  {
   "cell_type": "markdown",
   "metadata": {
    "id": "n82ChkC-AeMR"
   },
   "source": [
    "###from < module_name > import < name(s)>"
   ]
  },
  {
   "cell_type": "code",
   "execution_count": null,
   "metadata": {
    "id": "61ne-6FKAj3C"
   },
   "outputs": [],
   "source": [
    "from numpy import array\n",
    "# Multiple\n",
    "from numpy import median, nan, percentile, roll, sqrt, sum, transpose, unique, where"
   ]
  },
  {
   "cell_type": "code",
   "execution_count": null,
   "metadata": {
    "colab": {
     "base_uri": "https://localhost:8080/"
    },
    "id": "DpuoW_1BmauG",
    "outputId": "91f25a47-ee46-4e9c-ee49-7359bc01d065"
   },
   "outputs": [
    {
     "name": "stdout",
     "output_type": "stream",
     "text": [
      "40.0\n"
     ]
    }
   ],
   "source": [
    "score = [40,20,70]\n",
    "print(median(score))"
   ]
  },
  {
   "cell_type": "markdown",
   "metadata": {
    "id": "6g5ku8aWj6_T"
   },
   "source": [
    "###import < module_name > as < name(s)>"
   ]
  },
  {
   "cell_type": "code",
   "execution_count": null,
   "metadata": {
    "colab": {
     "base_uri": "https://localhost:8080/"
    },
    "id": "wToUiHlPkA88",
    "outputId": "1686323b-0a3c-472e-eefd-0da448d744ca"
   },
   "outputs": [
    {
     "name": "stdout",
     "output_type": "stream",
     "text": [
      "130\n"
     ]
    }
   ],
   "source": [
    "import numpy as np\n",
    "print(np.sum(score))"
   ]
  },
  {
   "cell_type": "markdown",
   "metadata": {
    "id": "a8vXxvRr_uXX"
   },
   "source": [
    "###Documentation\n",
    "[Module](https://docs.python.org/3/tutorial/modules.html)\n",
    "and [Import](https://docs.python.org/3/reference/import.html) can further be read in the documentation\n"
   ]
  },
  {
   "cell_type": "markdown",
   "metadata": {
    "id": "PRsKfPeOAa_n"
   },
   "source": [
    "#Built in Modules"
   ]
  },
  {
   "cell_type": "code",
   "execution_count": null,
   "metadata": {
    "id": "OaYlG0c-AuZj"
   },
   "outputs": [],
   "source": [
    "dir()"
   ]
  },
  {
   "cell_type": "markdown",
   "metadata": {
    "id": "aJmQybwMfBTX"
   },
   "source": [
    "important links that can be helpful to me to prepare the document\n",
    " \n",
    " numpy: https://www.analyticsvidhya.com/blog/2020/04/the-ultimate-numpy-tutorial-for-data-science-beginners/\n",
    " https://cs231n.github.io/python-numpy-tutorial/\n",
    " "
   ]
  },
  {
   "cell_type": "markdown",
   "metadata": {
    "id": "KEfTjtP6kzwh"
   },
   "source": [
    "#Numpy\n",
    "One of the most important package for Data scientist. It is considered as core for scientific data handling as it can help to solve mathematical formulas and computation data.\n",
    "It can help to manipulate multidimentional arrays and access values. \n",
    "Numpy array is like Python list but have some benefits over the list. Included but not limited to being more compact, faster access in reading and writing items, being more convenient and more efficient.\n",
    "Numpy is 'Numerical Python' or 'Numeric Python'.\n"
   ]
  },
  {
   "cell_type": "markdown",
   "metadata": {
    "id": "rM8N4qnBr0uH"
   },
   "source": [
    "Example List "
   ]
  },
  {
   "cell_type": "code",
   "execution_count": null,
   "metadata": {
    "colab": {
     "base_uri": "https://localhost:8080/"
    },
    "id": "cfLT1OzkqQXV",
    "outputId": "5abecd40-a59c-4cab-a395-cd1aae993f86"
   },
   "outputs": [
    {
     "name": "stdout",
     "output_type": "stream",
     "text": [
      "[[1, 2, 3, 4], [5, 6, 7, 8]]\n",
      "[[1, 2, 3, 4], [5, 6, 7, 8]]\n",
      "[[[1, 2, 3, 4], [5, 6, 7, 8]], [[1, 2, 3, 4], [9, 10, 11, 12]]]\n"
     ]
    }
   ],
   "source": [
    "array = [[1, 2, 3, 4],\n",
    " [5, 6, 7, 8]]\n",
    "my_2d_array= [[1, 2, 3, 4],\n",
    " [5, 6, 7, 8]]\n",
    "my_3d_array = [\n",
    "               [\n",
    "                [1,  2,  3,  4],\n",
    "  [ 5,  6,  7,  8]\n",
    "  ],\n",
    " [\n",
    "  [ 1,  2,  3,  4],\n",
    "  [ 9, 10, 11, 12]]]\n",
    "\n",
    "print(array)\n",
    "print(my_2d_array)\n",
    "print(my_3d_array)"
   ]
  },
  {
   "cell_type": "markdown",
   "metadata": {
    "id": "VCLq0vSbr4AK"
   },
   "source": [
    "Example Numpy Array "
   ]
  },
  {
   "cell_type": "code",
   "execution_count": null,
   "metadata": {
    "colab": {
     "base_uri": "https://localhost:8080/"
    },
    "id": "RrLGTaCir3Nu",
    "outputId": "ebefedda-bef6-41cf-c0ff-013fffb93ab6"
   },
   "outputs": [
    {
     "name": "stdout",
     "output_type": "stream",
     "text": [
      "[[1 2 3 4]\n",
      " [5 6 7 8]]\n",
      "int64\n",
      "(32, 8)\n",
      "<memory at 0x7f8169ce5670>\n",
      "[['1' '2' '3' '4']\n",
      " ['5' '6' '7' '8']]\n",
      "<U1\n",
      "(16, 4)\n",
      "<memory at 0x7f8169ce5670>\n",
      "[[[10.   2.   0.3  4.5]\n",
      "  [ 5.1  6.2  7.3  8.4]]\n",
      "\n",
      " [[ 1.   2.   3.   4. ]\n",
      "  [ 9.  10.  11.4 12. ]]]\n",
      "float64\n",
      "(64, 32, 8)\n",
      "<memory at 0x7f8169d54650>\n"
     ]
    }
   ],
   "source": [
    "import numpy as np\n",
    "array = np.array([[1, 2, 3, 4],\n",
    " [5, 6, 7, 8]],dtype=np.int64)\n",
    "print(array)\n",
    "print(array.dtype)\n",
    "print(array.strides)\n",
    "print(array.data)\n",
    "\n",
    "\n",
    "my_2d_array= np.array([['1', '2', '3', '4'],\n",
    " ['5', '6', '7', '8']],dtype=np.str)\n",
    "print(my_2d_array)\n",
    "print(my_2d_array.dtype)\n",
    "print(my_2d_array.strides)\n",
    "print(my_2d_array.data)\n",
    "my_3d_array =np.array([\n",
    "               [[10.0,  2.0,  0.3,  4.5],[ 5.1,  6.2,  7.3,  8.4]],\n",
    "               [[ 1,  2,  3,  4],[ 9, 10, 11.4, 12]]\n",
    "  ])\n",
    "print(my_3d_array)\n",
    "print(my_3d_array.dtype)\n",
    "print(my_3d_array.strides)\n",
    "print(my_3d_array.data)"
   ]
  },
  {
   "cell_type": "markdown",
   "metadata": {
    "id": "qAQal0uwrHTn"
   },
   "source": [
    "###Initiate array"
   ]
  },
  {
   "cell_type": "code",
   "execution_count": null,
   "metadata": {
    "colab": {
     "base_uri": "https://localhost:8080/"
    },
    "id": "nWv64yuiyT_Y",
    "outputId": "f60fcc0a-e4e1-413f-b70e-9dde3e429c68"
   },
   "outputs": [
    {
     "name": "stdout",
     "output_type": "stream",
     "text": [
      "[[0.76965083 0.44628866 0.9537476  0.36886261]\n",
      " [0.53292551 0.69712789 0.02709923 0.87905813]\n",
      " [0.32907686 0.12467244 0.315887   0.12920045]\n",
      " [0.38285288 0.24241561 0.53787012 0.10075207]\n",
      " [0.48822361 0.80366031 0.91912899 0.5167422 ]]\n"
     ]
    }
   ],
   "source": [
    "#height =np.zeros((2,3,4),dtype=np.int16)\n",
    "height = np.random.random((5,4))\n",
    "# height= np.ones((2,3),dtype=np.int64)\n",
    "# height= np.empty((3,2))\n",
    "# height= np.full((2,2),7)\n",
    "# height = np.arange(10,25,5)\n",
    "# height = np.linspace(0,2,12)\n",
    "# height = np.eye(2)\n",
    "# height = np.identity()\n",
    "print(height)"
   ]
  },
  {
   "cell_type": "markdown",
   "metadata": {
    "id": "TijszbWZ0cvz"
   },
   "source": [
    "###Read Data From File "
   ]
  },
  {
   "cell_type": "markdown",
   "metadata": {
    "id": "Kl6T3dOT0s2f"
   },
   "source": [
    "###Before reading data\n",
    "A Priliminary Step \n",
    "(how to handle file in Python)"
   ]
  },
  {
   "cell_type": "markdown",
   "metadata": {
    "id": "4e-fcwyPcsI_"
   },
   "source": [
    "#File Handling"
   ]
  },
  {
   "cell_type": "markdown",
   "metadata": {
    "id": "o03bgOJU082g"
   },
   "source": [
    "Read From Drive"
   ]
  },
  {
   "cell_type": "markdown",
   "metadata": {
    "id": "JH405RrA2VFG"
   },
   "source": [
    "###Read File from Google Drive"
   ]
  },
  {
   "cell_type": "code",
   "execution_count": null,
   "metadata": {
    "id": "EVJE1B_R2M85"
   },
   "outputs": [],
   "source": [
    "# Import PyDrive and associated libraries.\n",
    "# This only needs to be done once per notebook.\n",
    "from pydrive.auth import GoogleAuth\n",
    "from pydrive.drive import GoogleDrive\n",
    "from google.colab import auth\n",
    "from oauth2client.client import GoogleCredentials\n",
    "\n",
    "# Authenticate and create the PyDrive client.\n",
    "# This only needs to be done once per notebook.\n",
    "auth.authenticate_user()\n",
    "gauth = GoogleAuth()\n",
    "gauth.credentials = GoogleCredentials.get_application_default()\n",
    "drive = GoogleDrive(gauth)\n"
   ]
  },
  {
   "cell_type": "code",
   "execution_count": null,
   "metadata": {
    "colab": {
     "base_uri": "https://localhost:8080/",
     "height": 238
    },
    "id": "LN-daQNe0fop",
    "outputId": "6244396d-a9b8-455e-f41b-3693c0dd28a9"
   },
   "outputs": [
    {
     "ename": "TypeError",
     "evalue": "ignored",
     "output_type": "error",
     "traceback": [
      "\u001b[0;31m---------------------------------------------------------------------------\u001b[0m",
      "\u001b[0;31mTypeError\u001b[0m                                 Traceback (most recent call last)",
      "\u001b[0;32m<ipython-input-119-3e1152aa57be>\u001b[0m in \u001b[0;36m<module>\u001b[0;34m()\u001b[0m\n\u001b[0;32m----> 1\u001b[0;31m \u001b[0mx\u001b[0m\u001b[0;34m=\u001b[0m \u001b[0mnp\u001b[0m\u001b[0;34m.\u001b[0m\u001b[0marray\u001b[0m\u001b[0;34m(\u001b[0m\u001b[0;34m)\u001b[0m\u001b[0;34m\u001b[0m\u001b[0;34m\u001b[0m\u001b[0m\n\u001b[0m\u001b[1;32m      2\u001b[0m x, y, z = np.loadtxt('/content/data.txt', \n\u001b[1;32m      3\u001b[0m                     \u001b[0mskiprows\u001b[0m\u001b[0;34m=\u001b[0m\u001b[0;36m1\u001b[0m\u001b[0;34m,\u001b[0m\u001b[0;34m\u001b[0m\u001b[0;34m\u001b[0m\u001b[0m\n\u001b[1;32m      4\u001b[0m                     unpack=True)\n\u001b[1;32m      5\u001b[0m \u001b[0mprint\u001b[0m\u001b[0;34m(\u001b[0m\u001b[0mx\u001b[0m\u001b[0;34m)\u001b[0m\u001b[0;34m\u001b[0m\u001b[0;34m\u001b[0m\u001b[0m\n",
      "\u001b[0;31mTypeError\u001b[0m: array() missing required argument 'object' (pos 1)"
     ]
    }
   ],
   "source": [
    "x, y, z = np.loadtxt('/content/data.txt', \n",
    "                    skiprows=1,\n",
    "                    unpack=True)\n",
    "print(x)"
   ]
  },
  {
   "cell_type": "markdown",
   "metadata": {
    "id": "P3jilG_08L7a"
   },
   "source": [
    "data with missing values"
   ]
  },
  {
   "cell_type": "code",
   "execution_count": null,
   "metadata": {
    "id": "3-ArO9237fOL"
   },
   "outputs": [],
   "source": [
    "my_array_2=np.genfromtxt('data.txt',\n",
    "                      skip_header=1,\n",
    "                      filling_values=-999)"
   ]
  },
  {
   "cell_type": "code",
   "execution_count": null,
   "metadata": {
    "colab": {
     "base_uri": "https://localhost:8080/"
    },
    "id": "lR9UE52trGsx",
    "outputId": "7c5222ab-9730-4c4c-f208-5e4fc62895e6"
   },
   "outputs": [
    {
     "name": "stdout",
     "output_type": "stream",
     "text": [
      "[[ 1.1184400e-02  5.2704935e-01  2.8402922e-01  6.8145350e-02]\n",
      " [ 8.4555798e-01  5.3902195e-01  3.7608024e-01  8.6037900e-03]\n",
      " [-9.9900000e+02  6.4246443e-01  5.8755457e-01  5.7925845e-01]\n",
      " [ 6.5199234e-01  8.9392136e-01  6.4608204e-01  5.5391045e-01]\n",
      " [ 1.1074804e-01  5.9118612e-01  1.8499976e-01  6.7975566e-01]]\n",
      "(2, 4)\n"
     ]
    }
   ],
   "source": [
    "print(my_array_2)\n",
    "\n",
    "print(array.shape)"
   ]
  },
  {
   "cell_type": "markdown",
   "metadata": {
    "id": "Xg5_oC5l-WbC"
   },
   "source": [
    "Check this [link](https://numpy.org/doc/stable/reference/generated/numpy.genfromtxt.html#numpy.genfromtxt) for other options of missing values."
   ]
  },
  {
   "cell_type": "markdown",
   "metadata": {
    "id": "Mn_mB0FMQB_3"
   },
   "source": [
    "###Write File to Google Drive"
   ]
  },
  {
   "cell_type": "code",
   "execution_count": null,
   "metadata": {
    "id": "DK5VjTOppZ4R"
   },
   "outputs": [],
   "source": [
    "my_array = np.arange(1.0,5.0,1.0)\n",
    "np.savetxt('test.out', x, delimiter=',')"
   ]
  },
  {
   "cell_type": "markdown",
   "metadata": {
    "id": "SmNQtG-mQTB6"
   },
   "source": [
    "###Inspect Numpy Arrays"
   ]
  },
  {
   "cell_type": "code",
   "execution_count": null,
   "metadata": {
    "colab": {
     "base_uri": "https://localhost:8080/"
    },
    "id": "fY6kXUKQ-jAG",
    "outputId": "e7430c8b-c47b-4cdb-88ff-2ccd82deebf6"
   },
   "outputs": [
    {
     "name": "stdout",
     "output_type": "stream",
     "text": [
      "4\n",
      "4\n"
     ]
    }
   ],
   "source": [
    "print(len(my_array))\n",
    "\n",
    "# Print the number of `my_array`'s elements\n",
    "print(my_array.size)\n"
   ]
  },
  {
   "cell_type": "markdown",
   "metadata": {
    "id": "xR-HxI_Cnmea"
   },
   "source": [
    "Broadcasting\n",
    "Different array sizes for mathematical operations. \n",
    "Tips: Sizes should be compatiable. \n",
    "System will take the larger sized for the resulting array.\n"
   ]
  },
  {
   "cell_type": "code",
   "execution_count": null,
   "metadata": {
    "colab": {
     "base_uri": "https://localhost:8080/"
    },
    "id": "QsUsioB9RjfR",
    "outputId": "9749420a-6b7c-4ba1-cf8e-f0a17f3babcd"
   },
   "outputs": [
    {
     "data": {
      "text/plain": [
       "array([[[1.79884154, 1.62448468, 1.46852779, 1.64093299],\n",
       "        [1.79884154, 1.62448468, 1.46852779, 1.64093299],\n",
       "        [1.79884154, 1.62448468, 1.46852779, 1.64093299]],\n",
       "\n",
       "       [[1.5159801 , 1.06836158, 1.40625795, 1.52945155],\n",
       "        [1.5159801 , 1.06836158, 1.40625795, 1.52945155],\n",
       "        [1.5159801 , 1.06836158, 1.40625795, 1.52945155]]])"
      ]
     },
     "execution_count": 157,
     "metadata": {},
     "output_type": "execute_result"
    }
   ],
   "source": [
    "# Initialize `x` and `y`\n",
    "x = np.ones((3,4))\n",
    "y = np.random.random((2,1,4))\n",
    "\n",
    "# Add `x` and `y`\n",
    "x + y"
   ]
  },
  {
   "cell_type": "code",
   "execution_count": null,
   "metadata": {
    "colab": {
     "base_uri": "https://localhost:8080/"
    },
    "id": "rCxoulcGZ1xe",
    "outputId": "2d117559-f002-4260-cb4b-4b4a7c91ddbe"
   },
   "outputs": [
    {
     "data": {
      "text/plain": [
       "array([1., 1., 1., 5., 1., 1., 1., 1., 1., 1., 1., 1., 1.])"
      ]
     },
     "execution_count": 240,
     "metadata": {},
     "output_type": "execute_result"
    }
   ],
   "source": [
    "np.insert(x,3,5) #array, index, value"
   ]
  },
  {
   "cell_type": "code",
   "execution_count": null,
   "metadata": {
    "colab": {
     "base_uri": "https://localhost:8080/"
    },
    "id": "Y29Iptt9TyBR",
    "outputId": "fc2e5023-9e4e-45fe-b9dc-180265765519"
   },
   "outputs": [
    {
     "data": {
      "text/plain": [
       "0.5227158278932388"
      ]
     },
     "execution_count": 171,
     "metadata": {},
     "output_type": "execute_result"
    }
   ],
   "source": [
    "np.add(x,y)\n",
    "np.subtract(x,y)\n",
    "np.multiply(x,y)\n",
    "np.divide(x,y)\n",
    "np.sqrt(y)\n",
    "np.mean(x)\n",
    "np.median(y)\n",
    "#np.amax(x)"
   ]
  },
  {
   "cell_type": "markdown",
   "metadata": {
    "id": "ucRWHwt5Vjqj"
   },
   "source": [
    "Logical Operations"
   ]
  },
  {
   "cell_type": "code",
   "execution_count": null,
   "metadata": {
    "colab": {
     "base_uri": "https://localhost:8080/"
    },
    "id": "2nMXNVEPVN-D",
    "outputId": "7054860f-09a2-4d82-a75c-8f1d5d9f856e"
   },
   "outputs": [
    {
     "data": {
      "text/plain": [
       "array([[[False, False, False, False],\n",
       "        [False, False, False, False],\n",
       "        [False, False, False, False]],\n",
       "\n",
       "       [[False, False, False, False],\n",
       "        [False, False, False, False],\n",
       "        [False, False, False, False]]])"
      ]
     },
     "execution_count": 173,
     "metadata": {},
     "output_type": "execute_result"
    }
   ],
   "source": [
    "np.array_equal(x,y)\n",
    "np.logical_and(x,y)\n",
    "np.logical_or(x,y)\n",
    "np.logical_xor(x,y)"
   ]
  },
  {
   "cell_type": "markdown",
   "metadata": {
    "id": "ygzvHGvhV47C"
   },
   "source": [
    "Subset, Slice, Index"
   ]
  },
  {
   "cell_type": "code",
   "execution_count": null,
   "metadata": {
    "colab": {
     "base_uri": "https://localhost:8080/"
    },
    "id": "-rUqafAiV8yr",
    "outputId": "15371c87-4184-40e3-f116-db451a587323"
   },
   "outputs": [
    {
     "name": "stdout",
     "output_type": "stream",
     "text": [
      "0.06836157782406904\n",
      "[0.79884154]\n",
      "[['1' '2' '3' '4']\n",
      " ['5' '6' '7' '8']]\n",
      "[['5' '6' '7' '8']\n",
      " ['1' '2' '3' '4']\n",
      " ['5' '6' '7' '8']\n",
      " ['1' '2' '3' '4']]\n"
     ]
    }
   ],
   "source": [
    "print(y[1][0][1])\n",
    "print(y[0][0][0:1])\n",
    "print(my_2d_array)\n",
    "print(my_2d_array[[1,0,1,0]],)"
   ]
  },
  {
   "cell_type": "code",
   "execution_count": null,
   "metadata": {
    "colab": {
     "base_uri": "https://localhost:8080/"
    },
    "id": "Bhg8jFC_ajCQ",
    "outputId": "8f8712dc-adb9-49a1-f892-dd66f7c707d7"
   },
   "outputs": [
    {
     "name": "stdout",
     "output_type": "stream",
     "text": [
      "[['1' '2' '3' '4']\n",
      " ['5' '6' '7' '8']\n",
      " ['1.0' '1.0' '1.0' '1.0']\n",
      " ['1.0' '1.0' '1.0' '1.0']\n",
      " ['1.0' '1.0' '1.0' '1.0']]\n",
      "[['1.0' '2.0' '3.0' '4.0']\n",
      " ['1' '2' '3' '4']\n",
      " ['5' '6' '7' '8']]\n",
      "[['1' '2' '3' '4']\n",
      " ['5' '6' '7' '8']\n",
      " ['1' '2' '3' '4']\n",
      " ['5' '6' '7' '8']]\n",
      "[['1' '2' '3' '4' '1' '2' '3' '4']\n",
      " ['5' '6' '7' '8' '5' '6' '7' '8']]\n",
      "[['1' '2' '3' '4' '1' '2' '3' '4']\n",
      " ['5' '6' '7' '8' '5' '6' '7' '8']]\n",
      "[['1' '2' '3' '4' '1' '2' '3' '4']\n",
      " ['5' '6' '7' '8' '5' '6' '7' '8']]\n"
     ]
    }
   ],
   "source": [
    "print(np.concatenate((my_2d_array,x)))\n",
    "\n",
    "# Stack arrays row-wise\n",
    "print(np.vstack((my_array, my_2d_array)))\n",
    "\n",
    "# Stack arrays row-wise\n",
    "print(np.r_[my_2d_array, my_2d_array])\n",
    "\n",
    "# Stack arrays horizontally\n",
    "print(np.hstack((my_2d_array, my_2d_array)))\n",
    "\n",
    "# Stack arrays column-wise\n",
    "print(np.column_stack((my_2d_array, my_2d_array)))\n",
    "\n",
    "# Stack arrays column-wise\n",
    "print(np.c_[my_2d_array, my_2d_array])"
   ]
  },
  {
   "cell_type": "code",
   "execution_count": null,
   "metadata": {
    "colab": {
     "base_uri": "https://localhost:8080/"
    },
    "id": "cQMwcwOVazCU",
    "outputId": "b620fef6-559c-4891-cd03-262808f4d75e"
   },
   "outputs": [
    {
     "name": "stdout",
     "output_type": "stream",
     "text": [
      "[array([['1', '2'],\n",
      "       ['5', '6']], dtype='<U1'), array([['3', '4'],\n",
      "       ['7', '8']], dtype='<U1')]\n",
      "[array([['1', '2', '3', '4']], dtype='<U1'), array([['5', '6', '7', '8']], dtype='<U1')]\n"
     ]
    }
   ],
   "source": [
    "# Split `my_stacked_array` horizontally at the 2nd index\n",
    "print(np.hsplit(my_2d_array, 2))\n",
    "\n",
    "# Split `my_stacked_array` vertically at the 2nd index\n",
    "print(np.vsplit(my_2d_array, 2))"
   ]
  },
  {
   "cell_type": "code",
   "execution_count": null,
   "metadata": {
    "colab": {
     "base_uri": "https://localhost:8080/"
    },
    "id": "BUy9n2Zta_CI",
    "outputId": "95866c7f-f5a1-4096-ec51-6a2bd83ff6ad"
   },
   "outputs": [
    {
     "data": {
      "text/plain": [
       "(array([2, 2, 1, 2, 1, 2, 1, 1, 2, 2]),\n",
       " array([ 0.3 ,  1.47,  2.64,  3.81,  4.98,  6.15,  7.32,  8.49,  9.66,\n",
       "        10.83, 12.  ]))"
      ]
     },
     "execution_count": 253,
     "metadata": {},
     "output_type": "execute_result"
    }
   ],
   "source": [
    "np.histogram(my_3d_array)"
   ]
  },
  {
   "cell_type": "markdown",
   "metadata": {
    "id": "lnwH4VX_bZgp"
   },
   "source": [
    "#Matplotlib for Plotting"
   ]
  },
  {
   "cell_type": "code",
   "execution_count": null,
   "metadata": {
    "colab": {
     "base_uri": "https://localhost:8080/",
     "height": 281
    },
    "id": "v3XcRqARbSmV",
    "outputId": "cd441217-5166-4b7c-ec67-9d26113b31f0"
   },
   "outputs": [
    {
     "data": {
      "image/png": "[encoded data removed]",
      "text/plain": [
       "<Figure size 432x288 with 1 Axes>"
      ]
     },
     "metadata": {
      "needs_background": "light"
     },
     "output_type": "display_data"
    }
   ],
   "source": [
    "import matplotlib.pyplot as plt\n",
    "\n",
    "# Construct the histogram with a flattened 3d array and a range of bins\n",
    "plt.hist(my_3d_array.ravel(), bins=range(0,13))\n",
    "\n",
    "# Add a title to the plot\n",
    "plt.title('Frequency of My 3D Array Elements')\n",
    "\n",
    "# Show the plot\n",
    "plt.show()"
   ]
  },
  {
   "cell_type": "code",
   "execution_count": null,
   "metadata": {
    "colab": {
     "base_uri": "https://localhost:8080/",
     "height": 269
    },
    "id": "Biy95e8TbhpR",
    "outputId": "432fa54d-370c-4a6d-98e3-19691adab38c"
   },
   "outputs": [
    {
     "data": {
      "image/png": "[encoded data removed]",
      "text/plain": [
       "<Figure size 432x288 with 2 Axes>"
      ]
     },
     "metadata": {
      "needs_background": "light"
     },
     "output_type": "display_data"
    }
   ],
   "source": [
    "points = np.arange(-5, 5, 0.01)\n",
    "\n",
    "# Make a meshgrid\n",
    "xs, ys = np.meshgrid(points, points)\n",
    "z = np.sqrt(xs ** 2 + ys ** 2)\n",
    "\n",
    "# Display the image on the axes\n",
    "plt.imshow(z, cmap=plt.cm.gray)\n",
    "\n",
    "# Draw a color bar\n",
    "plt.colorbar()\n",
    "\n",
    "# Show the plot\n",
    "plt.show()"
   ]
  },
  {
   "cell_type": "markdown",
   "metadata": {
    "id": "PatPXwPwnln7"
   },
   "source": [
    "[Numpy Official Documentation](https://numpy.org/devdocs/user/quickstart.html) link for further referencing."
   ]
  },
  {
   "cell_type": "markdown",
   "metadata": {
    "id": "Nulyllyfyn-3"
   },
   "source": [
    "#Scikit-Learn\n",
    "Its very broad as we can handle multiple data types with different data functionality available. \n",
    "It has various function available e.g. Random FOrest and Logistic Regressiion. \n",
    "\n",
    "For the tutorial we will use \n",
    "\n",
    "\n",
    "*   Data Normalization \n",
    "*   List item\n",
    "\n"
   ]
  },
  {
   "cell_type": "markdown",
   "metadata": {
    "id": "mvp-tvDx-WPI"
   },
   "source": [
    "Free Dataset Resources [KDnuggets](https://www.kdnuggets.com/datasets/index.html), [UCI Repository](http://archive.ics.uci.edu/ml/datasets.php)"
   ]
  },
  {
   "cell_type": "markdown",
   "metadata": {
    "id": "6HviObcb_uT7"
   },
   "source": [
    "Importing Data Sets"
   ]
  },
  {
   "cell_type": "markdown",
   "metadata": {
    "id": "OxQrZ22Y_wie"
   },
   "source": [
    "#Pandas"
   ]
  },
  {
   "cell_type": "markdown",
   "metadata": {
    "id": "KEXa3MdqARwK"
   },
   "source": [
    "Backbone of Data Science in Python. \n",
    "Tabular Dataframe, having rows and column called dataset in Pandas."
   ]
  },
  {
   "cell_type": "markdown",
   "metadata": {
    "id": "nqZXtrNEAL_U"
   },
   "source": [
    "![dataframe-1.png](data:image/png;base64,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)"
   ]
  },
  {
   "cell_type": "markdown",
   "metadata": {
    "id": "MPqpHuZwGoO_"
   },
   "source": [
    "Clean, Transform and Understand your data. It is your data home. \n",
    "Data in pandas is often used to feed statistical analysis in SciPy, plotting functions from Matplotlib, and machine learning algorithms in Scikit-learn.\n",
    "So a starting point to begin interaction with your data.\n",
    "It has some similarities with numpy as well. \n",
    "\n"
   ]
  },
  {
   "cell_type": "code",
   "execution_count": 80,
   "metadata": {
    "id": "WCfA2vOucG-9"
   },
   "outputs": [],
   "source": [
    "#import necessary modules\n",
    "import pandas as pd\n",
    "#store the url in a variable\n",
    "#url = \"https://raw.githubusercontent.com/fivethirtyeight/data/master/college-majors/recent-grads.csv\"\n",
    "#data = pd.read_csv(url)\n",
    "file_1=\"/content/cereal.csv\"\n",
    "cereal = pd.read_csv(file_1)"
   ]
  },
  {
   "cell_type": "code",
   "execution_count": 81,
   "metadata": {
    "colab": {
     "base_uri": "https://localhost:8080/",
     "height": 203
    },
    "id": "nfwegV9DBno-",
    "outputId": "303eba30-f673-4e13-a3c5-64cf7e717fa9"
   },
   "outputs": [
    {
     "data": {
      "text/html": [
       "<div>\n",
       "<style scoped>\n",
       "    .dataframe tbody tr th:only-of-type {\n",
       "        vertical-align: middle;\n",
       "    }\n",
       "\n",
       "    .dataframe tbody tr th {\n",
       "        vertical-align: top;\n",
       "    }\n",
       "\n",
       "    .dataframe thead th {\n",
       "        text-align: right;\n",
       "    }\n",
       "</style>\n",
       "<table border=\"1\" class=\"dataframe\">\n",
       "  <thead>\n",
       "    <tr style=\"text-align: right;\">\n",
       "      <th></th>\n",
       "      <th>name</th>\n",
       "      <th>mfr</th>\n",
       "      <th>type</th>\n",
       "      <th>calories</th>\n",
       "      <th>protein</th>\n",
       "      <th>fat</th>\n",
       "      <th>sodium</th>\n",
       "      <th>fiber</th>\n",
       "      <th>carbo</th>\n",
       "      <th>sugars</th>\n",
       "      <th>potass</th>\n",
       "      <th>vitamins</th>\n",
       "      <th>shelf</th>\n",
       "      <th>weight</th>\n",
       "      <th>cups</th>\n",
       "      <th>rating</th>\n",
       "    </tr>\n",
       "  </thead>\n",
       "  <tbody>\n",
       "    <tr>\n",
       "      <th>0</th>\n",
       "      <td>100% Bran</td>\n",
       "      <td>N</td>\n",
       "      <td>C</td>\n",
       "      <td>70</td>\n",
       "      <td>4</td>\n",
       "      <td>1</td>\n",
       "      <td>130</td>\n",
       "      <td>10.0</td>\n",
       "      <td>5.0</td>\n",
       "      <td>6</td>\n",
       "      <td>280</td>\n",
       "      <td>25</td>\n",
       "      <td>3</td>\n",
       "      <td>1.0</td>\n",
       "      <td>0.33</td>\n",
       "      <td>68.402973</td>\n",
       "    </tr>\n",
       "    <tr>\n",
       "      <th>1</th>\n",
       "      <td>100% Natural Bran</td>\n",
       "      <td>Q</td>\n",
       "      <td>C</td>\n",
       "      <td>120</td>\n",
       "      <td>3</td>\n",
       "      <td>5</td>\n",
       "      <td>15</td>\n",
       "      <td>2.0</td>\n",
       "      <td>8.0</td>\n",
       "      <td>8</td>\n",
       "      <td>135</td>\n",
       "      <td>0</td>\n",
       "      <td>3</td>\n",
       "      <td>1.0</td>\n",
       "      <td>1.00</td>\n",
       "      <td>33.983679</td>\n",
       "    </tr>\n",
       "    <tr>\n",
       "      <th>2</th>\n",
       "      <td>All-Bran</td>\n",
       "      <td>K</td>\n",
       "      <td>C</td>\n",
       "      <td>70</td>\n",
       "      <td>4</td>\n",
       "      <td>1</td>\n",
       "      <td>260</td>\n",
       "      <td>9.0</td>\n",
       "      <td>7.0</td>\n",
       "      <td>5</td>\n",
       "      <td>320</td>\n",
       "      <td>25</td>\n",
       "      <td>3</td>\n",
       "      <td>1.0</td>\n",
       "      <td>0.33</td>\n",
       "      <td>59.425505</td>\n",
       "    </tr>\n",
       "    <tr>\n",
       "      <th>3</th>\n",
       "      <td>All-Bran with Extra Fiber</td>\n",
       "      <td>K</td>\n",
       "      <td>C</td>\n",
       "      <td>50</td>\n",
       "      <td>4</td>\n",
       "      <td>0</td>\n",
       "      <td>140</td>\n",
       "      <td>14.0</td>\n",
       "      <td>8.0</td>\n",
       "      <td>0</td>\n",
       "      <td>330</td>\n",
       "      <td>25</td>\n",
       "      <td>3</td>\n",
       "      <td>1.0</td>\n",
       "      <td>0.50</td>\n",
       "      <td>93.704912</td>\n",
       "    </tr>\n",
       "    <tr>\n",
       "      <th>4</th>\n",
       "      <td>Almond Delight</td>\n",
       "      <td>R</td>\n",
       "      <td>C</td>\n",
       "      <td>110</td>\n",
       "      <td>2</td>\n",
       "      <td>2</td>\n",
       "      <td>200</td>\n",
       "      <td>1.0</td>\n",
       "      <td>14.0</td>\n",
       "      <td>8</td>\n",
       "      <td>-1</td>\n",
       "      <td>25</td>\n",
       "      <td>3</td>\n",
       "      <td>1.0</td>\n",
       "      <td>0.75</td>\n",
       "      <td>34.384843</td>\n",
       "    </tr>\n",
       "  </tbody>\n",
       "</table>\n",
       "</div>"
      ],
      "text/plain": [
       "                        name mfr type  calories  ...  shelf  weight  cups     rating\n",
       "0                  100% Bran   N    C        70  ...      3     1.0  0.33  68.402973\n",
       "1          100% Natural Bran   Q    C       120  ...      3     1.0  1.00  33.983679\n",
       "2                   All-Bran   K    C        70  ...      3     1.0  0.33  59.425505\n",
       "3  All-Bran with Extra Fiber   K    C        50  ...      3     1.0  0.50  93.704912\n",
       "4             Almond Delight   R    C       110  ...      3     1.0  0.75  34.384843\n",
       "\n",
       "[5 rows x 16 columns]"
      ]
     },
     "execution_count": 81,
     "metadata": {},
     "output_type": "execute_result"
    }
   ],
   "source": [
    "cereal.head()\n",
    "#data.head(2)"
   ]
  },
  {
   "cell_type": "code",
   "execution_count": 82,
   "metadata": {
    "colab": {
     "base_uri": "https://localhost:8080/",
     "height": 203
    },
    "id": "69RqCYraCHnG",
    "outputId": "f5db4d17-de0f-40bd-b859-358c4a58a32e"
   },
   "outputs": [
    {
     "data": {
      "text/html": [
       "<div>\n",
       "<style scoped>\n",
       "    .dataframe tbody tr th:only-of-type {\n",
       "        vertical-align: middle;\n",
       "    }\n",
       "\n",
       "    .dataframe tbody tr th {\n",
       "        vertical-align: top;\n",
       "    }\n",
       "\n",
       "    .dataframe thead th {\n",
       "        text-align: right;\n",
       "    }\n",
       "</style>\n",
       "<table border=\"1\" class=\"dataframe\">\n",
       "  <thead>\n",
       "    <tr style=\"text-align: right;\">\n",
       "      <th></th>\n",
       "      <th>name</th>\n",
       "      <th>mfr</th>\n",
       "      <th>type</th>\n",
       "      <th>calories</th>\n",
       "      <th>protein</th>\n",
       "      <th>fat</th>\n",
       "      <th>sodium</th>\n",
       "      <th>fiber</th>\n",
       "      <th>carbo</th>\n",
       "      <th>sugars</th>\n",
       "      <th>potass</th>\n",
       "      <th>vitamins</th>\n",
       "      <th>shelf</th>\n",
       "      <th>weight</th>\n",
       "      <th>cups</th>\n",
       "      <th>rating</th>\n",
       "    </tr>\n",
       "  </thead>\n",
       "  <tbody>\n",
       "    <tr>\n",
       "      <th>72</th>\n",
       "      <td>Triples</td>\n",
       "      <td>G</td>\n",
       "      <td>C</td>\n",
       "      <td>110</td>\n",
       "      <td>2</td>\n",
       "      <td>1</td>\n",
       "      <td>250</td>\n",
       "      <td>0.0</td>\n",
       "      <td>21.0</td>\n",
       "      <td>3</td>\n",
       "      <td>60</td>\n",
       "      <td>25</td>\n",
       "      <td>3</td>\n",
       "      <td>1.0</td>\n",
       "      <td>0.75</td>\n",
       "      <td>39.106174</td>\n",
       "    </tr>\n",
       "    <tr>\n",
       "      <th>73</th>\n",
       "      <td>Trix</td>\n",
       "      <td>G</td>\n",
       "      <td>C</td>\n",
       "      <td>110</td>\n",
       "      <td>1</td>\n",
       "      <td>1</td>\n",
       "      <td>140</td>\n",
       "      <td>0.0</td>\n",
       "      <td>13.0</td>\n",
       "      <td>12</td>\n",
       "      <td>25</td>\n",
       "      <td>25</td>\n",
       "      <td>2</td>\n",
       "      <td>1.0</td>\n",
       "      <td>1.00</td>\n",
       "      <td>27.753301</td>\n",
       "    </tr>\n",
       "    <tr>\n",
       "      <th>74</th>\n",
       "      <td>Wheat Chex</td>\n",
       "      <td>R</td>\n",
       "      <td>C</td>\n",
       "      <td>100</td>\n",
       "      <td>3</td>\n",
       "      <td>1</td>\n",
       "      <td>230</td>\n",
       "      <td>3.0</td>\n",
       "      <td>17.0</td>\n",
       "      <td>3</td>\n",
       "      <td>115</td>\n",
       "      <td>25</td>\n",
       "      <td>1</td>\n",
       "      <td>1.0</td>\n",
       "      <td>0.67</td>\n",
       "      <td>49.787445</td>\n",
       "    </tr>\n",
       "    <tr>\n",
       "      <th>75</th>\n",
       "      <td>Wheaties</td>\n",
       "      <td>G</td>\n",
       "      <td>C</td>\n",
       "      <td>100</td>\n",
       "      <td>3</td>\n",
       "      <td>1</td>\n",
       "      <td>200</td>\n",
       "      <td>3.0</td>\n",
       "      <td>17.0</td>\n",
       "      <td>3</td>\n",
       "      <td>110</td>\n",
       "      <td>25</td>\n",
       "      <td>1</td>\n",
       "      <td>1.0</td>\n",
       "      <td>1.00</td>\n",
       "      <td>51.592193</td>\n",
       "    </tr>\n",
       "    <tr>\n",
       "      <th>76</th>\n",
       "      <td>Wheaties Honey Gold</td>\n",
       "      <td>G</td>\n",
       "      <td>C</td>\n",
       "      <td>110</td>\n",
       "      <td>2</td>\n",
       "      <td>1</td>\n",
       "      <td>200</td>\n",
       "      <td>1.0</td>\n",
       "      <td>16.0</td>\n",
       "      <td>8</td>\n",
       "      <td>60</td>\n",
       "      <td>25</td>\n",
       "      <td>1</td>\n",
       "      <td>1.0</td>\n",
       "      <td>0.75</td>\n",
       "      <td>36.187559</td>\n",
       "    </tr>\n",
       "  </tbody>\n",
       "</table>\n",
       "</div>"
      ],
      "text/plain": [
       "                   name mfr type  calories  ...  shelf  weight  cups     rating\n",
       "72              Triples   G    C       110  ...      3     1.0  0.75  39.106174\n",
       "73                 Trix   G    C       110  ...      2     1.0  1.00  27.753301\n",
       "74           Wheat Chex   R    C       100  ...      1     1.0  0.67  49.787445\n",
       "75             Wheaties   G    C       100  ...      1     1.0  1.00  51.592193\n",
       "76  Wheaties Honey Gold   G    C       110  ...      1     1.0  0.75  36.187559\n",
       "\n",
       "[5 rows x 16 columns]"
      ]
     },
     "execution_count": 82,
     "metadata": {},
     "output_type": "execute_result"
    }
   ],
   "source": [
    "cereal.tail()\n",
    "#data.tail(2)"
   ]
  },
  {
   "cell_type": "code",
   "execution_count": 83,
   "metadata": {
    "colab": {
     "base_uri": "https://localhost:8080/"
    },
    "id": "2as-jJ1GPZ6h",
    "outputId": "d719998e-8328-40e0-996e-60a023d8181a"
   },
   "outputs": [
    {
     "data": {
      "text/plain": [
       "(77, 16)"
      ]
     },
     "execution_count": 83,
     "metadata": {},
     "output_type": "execute_result"
    }
   ],
   "source": [
    "cereal.shape"
   ]
  },
  {
   "cell_type": "code",
   "execution_count": 84,
   "metadata": {
    "colab": {
     "base_uri": "https://localhost:8080/"
    },
    "id": "sbimZY22PnYS",
    "outputId": "ad51ebfd-fa72-473d-cf31-c572253d7f12"
   },
   "outputs": [
    {
     "data": {
      "text/plain": [
       "<bound method DataFrame.info of                          name mfr type  ...  weight  cups     rating\n",
       "0                   100% Bran   N    C  ...     1.0  0.33  68.402973\n",
       "1           100% Natural Bran   Q    C  ...     1.0  1.00  33.983679\n",
       "2                    All-Bran   K    C  ...     1.0  0.33  59.425505\n",
       "3   All-Bran with Extra Fiber   K    C  ...     1.0  0.50  93.704912\n",
       "4              Almond Delight   R    C  ...     1.0  0.75  34.384843\n",
       "..                        ...  ..  ...  ...     ...   ...        ...\n",
       "72                    Triples   G    C  ...     1.0  0.75  39.106174\n",
       "73                       Trix   G    C  ...     1.0  1.00  27.753301\n",
       "74                 Wheat Chex   R    C  ...     1.0  0.67  49.787445\n",
       "75                   Wheaties   G    C  ...     1.0  1.00  51.592193\n",
       "76        Wheaties Honey Gold   G    C  ...     1.0  0.75  36.187559\n",
       "\n",
       "[77 rows x 16 columns]>"
      ]
     },
     "execution_count": 84,
     "metadata": {},
     "output_type": "execute_result"
    }
   ],
   "source": [
    "cereal.info"
   ]
  },
  {
   "cell_type": "code",
   "execution_count": 85,
   "metadata": {
    "colab": {
     "base_uri": "https://localhost:8080/"
    },
    "id": "iA1t4q0lCUYS",
    "outputId": "4372cb07-aaa6-436e-b64a-42659e7c533e"
   },
   "outputs": [
    {
     "data": {
      "text/plain": [
       "name         object\n",
       "mfr          object\n",
       "type         object\n",
       "calories      int64\n",
       "protein       int64\n",
       "fat           int64\n",
       "sodium        int64\n",
       "fiber       float64\n",
       "carbo       float64\n",
       "sugars        int64\n",
       "potass        int64\n",
       "vitamins      int64\n",
       "shelf         int64\n",
       "weight      float64\n",
       "cups        float64\n",
       "rating      float64\n",
       "dtype: object"
      ]
     },
     "execution_count": 85,
     "metadata": {},
     "output_type": "execute_result"
    }
   ],
   "source": [
    "cereal.dtypes"
   ]
  },
  {
   "cell_type": "code",
   "execution_count": 86,
   "metadata": {
    "colab": {
     "base_uri": "https://localhost:8080/",
     "height": 295
    },
    "id": "L86exfPdCeUe",
    "outputId": "3c90eea8-3b29-475f-fa97-bdca6734771d"
   },
   "outputs": [
    {
     "data": {
      "text/html": [
       "<div>\n",
       "<style scoped>\n",
       "    .dataframe tbody tr th:only-of-type {\n",
       "        vertical-align: middle;\n",
       "    }\n",
       "\n",
       "    .dataframe tbody tr th {\n",
       "        vertical-align: top;\n",
       "    }\n",
       "\n",
       "    .dataframe thead th {\n",
       "        text-align: right;\n",
       "    }\n",
       "</style>\n",
       "<table border=\"1\" class=\"dataframe\">\n",
       "  <thead>\n",
       "    <tr style=\"text-align: right;\">\n",
       "      <th></th>\n",
       "      <th>calories</th>\n",
       "      <th>protein</th>\n",
       "      <th>fat</th>\n",
       "      <th>sodium</th>\n",
       "      <th>fiber</th>\n",
       "      <th>carbo</th>\n",
       "      <th>sugars</th>\n",
       "      <th>potass</th>\n",
       "      <th>vitamins</th>\n",
       "      <th>shelf</th>\n",
       "      <th>weight</th>\n",
       "      <th>cups</th>\n",
       "      <th>rating</th>\n",
       "    </tr>\n",
       "  </thead>\n",
       "  <tbody>\n",
       "    <tr>\n",
       "      <th>count</th>\n",
       "      <td>77.000000</td>\n",
       "      <td>77.000000</td>\n",
       "      <td>77.000000</td>\n",
       "      <td>77.000000</td>\n",
       "      <td>77.000000</td>\n",
       "      <td>77.000000</td>\n",
       "      <td>77.000000</td>\n",
       "      <td>77.000000</td>\n",
       "      <td>77.000000</td>\n",
       "      <td>77.000000</td>\n",
       "      <td>77.000000</td>\n",
       "      <td>77.000000</td>\n",
       "      <td>77.000000</td>\n",
       "    </tr>\n",
       "    <tr>\n",
       "      <th>mean</th>\n",
       "      <td>106.883117</td>\n",
       "      <td>2.545455</td>\n",
       "      <td>1.012987</td>\n",
       "      <td>159.675325</td>\n",
       "      <td>2.151948</td>\n",
       "      <td>14.597403</td>\n",
       "      <td>6.922078</td>\n",
       "      <td>96.077922</td>\n",
       "      <td>28.246753</td>\n",
       "      <td>2.207792</td>\n",
       "      <td>1.029610</td>\n",
       "      <td>0.821039</td>\n",
       "      <td>42.665705</td>\n",
       "    </tr>\n",
       "    <tr>\n",
       "      <th>std</th>\n",
       "      <td>19.484119</td>\n",
       "      <td>1.094790</td>\n",
       "      <td>1.006473</td>\n",
       "      <td>83.832295</td>\n",
       "      <td>2.383364</td>\n",
       "      <td>4.278956</td>\n",
       "      <td>4.444885</td>\n",
       "      <td>71.286813</td>\n",
       "      <td>22.342523</td>\n",
       "      <td>0.832524</td>\n",
       "      <td>0.150477</td>\n",
       "      <td>0.232716</td>\n",
       "      <td>14.047289</td>\n",
       "    </tr>\n",
       "    <tr>\n",
       "      <th>min</th>\n",
       "      <td>50.000000</td>\n",
       "      <td>1.000000</td>\n",
       "      <td>0.000000</td>\n",
       "      <td>0.000000</td>\n",
       "      <td>0.000000</td>\n",
       "      <td>-1.000000</td>\n",
       "      <td>-1.000000</td>\n",
       "      <td>-1.000000</td>\n",
       "      <td>0.000000</td>\n",
       "      <td>1.000000</td>\n",
       "      <td>0.500000</td>\n",
       "      <td>0.250000</td>\n",
       "      <td>18.042851</td>\n",
       "    </tr>\n",
       "    <tr>\n",
       "      <th>25%</th>\n",
       "      <td>100.000000</td>\n",
       "      <td>2.000000</td>\n",
       "      <td>0.000000</td>\n",
       "      <td>130.000000</td>\n",
       "      <td>1.000000</td>\n",
       "      <td>12.000000</td>\n",
       "      <td>3.000000</td>\n",
       "      <td>40.000000</td>\n",
       "      <td>25.000000</td>\n",
       "      <td>1.000000</td>\n",
       "      <td>1.000000</td>\n",
       "      <td>0.670000</td>\n",
       "      <td>33.174094</td>\n",
       "    </tr>\n",
       "    <tr>\n",
       "      <th>50%</th>\n",
       "      <td>110.000000</td>\n",
       "      <td>3.000000</td>\n",
       "      <td>1.000000</td>\n",
       "      <td>180.000000</td>\n",
       "      <td>2.000000</td>\n",
       "      <td>14.000000</td>\n",
       "      <td>7.000000</td>\n",
       "      <td>90.000000</td>\n",
       "      <td>25.000000</td>\n",
       "      <td>2.000000</td>\n",
       "      <td>1.000000</td>\n",
       "      <td>0.750000</td>\n",
       "      <td>40.400208</td>\n",
       "    </tr>\n",
       "    <tr>\n",
       "      <th>75%</th>\n",
       "      <td>110.000000</td>\n",
       "      <td>3.000000</td>\n",
       "      <td>2.000000</td>\n",
       "      <td>210.000000</td>\n",
       "      <td>3.000000</td>\n",
       "      <td>17.000000</td>\n",
       "      <td>11.000000</td>\n",
       "      <td>120.000000</td>\n",
       "      <td>25.000000</td>\n",
       "      <td>3.000000</td>\n",
       "      <td>1.000000</td>\n",
       "      <td>1.000000</td>\n",
       "      <td>50.828392</td>\n",
       "    </tr>\n",
       "    <tr>\n",
       "      <th>max</th>\n",
       "      <td>160.000000</td>\n",
       "      <td>6.000000</td>\n",
       "      <td>5.000000</td>\n",
       "      <td>320.000000</td>\n",
       "      <td>14.000000</td>\n",
       "      <td>23.000000</td>\n",
       "      <td>15.000000</td>\n",
       "      <td>330.000000</td>\n",
       "      <td>100.000000</td>\n",
       "      <td>3.000000</td>\n",
       "      <td>1.500000</td>\n",
       "      <td>1.500000</td>\n",
       "      <td>93.704912</td>\n",
       "    </tr>\n",
       "  </tbody>\n",
       "</table>\n",
       "</div>"
      ],
      "text/plain": [
       "         calories    protein        fat  ...     weight       cups     rating\n",
       "count   77.000000  77.000000  77.000000  ...  77.000000  77.000000  77.000000\n",
       "mean   106.883117   2.545455   1.012987  ...   1.029610   0.821039  42.665705\n",
       "std     19.484119   1.094790   1.006473  ...   0.150477   0.232716  14.047289\n",
       "min     50.000000   1.000000   0.000000  ...   0.500000   0.250000  18.042851\n",
       "25%    100.000000   2.000000   0.000000  ...   1.000000   0.670000  33.174094\n",
       "50%    110.000000   3.000000   1.000000  ...   1.000000   0.750000  40.400208\n",
       "75%    110.000000   3.000000   2.000000  ...   1.000000   1.000000  50.828392\n",
       "max    160.000000   6.000000   5.000000  ...   1.500000   1.500000  93.704912\n",
       "\n",
       "[8 rows x 13 columns]"
      ]
     },
     "execution_count": 86,
     "metadata": {},
     "output_type": "execute_result"
    }
   ],
   "source": [
    "cereal.describe()"
   ]
  },
  {
   "cell_type": "code",
   "execution_count": 90,
   "metadata": {
    "id": "217Ry9kzPuJH"
   },
   "outputs": [],
   "source": [
    "cereal.drop_duplicates(inplace=True,keep='first') #with inplace we need not to sssign to another dataframe, with Keep we can ask to keep a copy (first, False,last)"
   ]
  },
  {
   "cell_type": "code",
   "execution_count": 53,
   "metadata": {
    "id": "LWpygrtcMmC3"
   },
   "outputs": [],
   "source": [
    "fruit_list = {\n",
    "    'apples': [3, 2, 0, 1], \n",
    "    'oranges': [0, 3, 7, 2]\n",
    "}"
   ]
  },
  {
   "cell_type": "code",
   "execution_count": 58,
   "metadata": {
    "id": "41hY3h8ARilB"
   },
   "outputs": [],
   "source": [
    "vegetable_list = {\n",
    "    'kale': [3, 2, 0, 1], \n",
    "    'potatoes': [0, 3, 7, 2]\n",
    "}"
   ]
  },
  {
   "cell_type": "markdown",
   "metadata": {
    "id": "y4j3O1N-N1oL"
   },
   "source": [
    "Index for a dataframe"
   ]
  },
  {
   "cell_type": "code",
   "execution_count": 59,
   "metadata": {
    "colab": {
     "base_uri": "https://localhost:8080/",
     "height": 172
    },
    "id": "HVZJGIiCMuoz",
    "outputId": "7f7e84eb-692e-45cd-bde8-8e42c2e8fa3d"
   },
   "outputs": [
    {
     "data": {
      "text/html": [
       "<div>\n",
       "<style scoped>\n",
       "    .dataframe tbody tr th:only-of-type {\n",
       "        vertical-align: middle;\n",
       "    }\n",
       "\n",
       "    .dataframe tbody tr th {\n",
       "        vertical-align: top;\n",
       "    }\n",
       "\n",
       "    .dataframe thead th {\n",
       "        text-align: right;\n",
       "    }\n",
       "</style>\n",
       "<table border=\"1\" class=\"dataframe\">\n",
       "  <thead>\n",
       "    <tr style=\"text-align: right;\">\n",
       "      <th></th>\n",
       "      <th>apples</th>\n",
       "      <th>oranges</th>\n",
       "    </tr>\n",
       "  </thead>\n",
       "  <tbody>\n",
       "    <tr>\n",
       "      <th>0</th>\n",
       "      <td>3</td>\n",
       "      <td>0</td>\n",
       "    </tr>\n",
       "    <tr>\n",
       "      <th>1</th>\n",
       "      <td>2</td>\n",
       "      <td>3</td>\n",
       "    </tr>\n",
       "    <tr>\n",
       "      <th>2</th>\n",
       "      <td>0</td>\n",
       "      <td>7</td>\n",
       "    </tr>\n",
       "    <tr>\n",
       "      <th>3</th>\n",
       "      <td>1</td>\n",
       "      <td>2</td>\n",
       "    </tr>\n",
       "  </tbody>\n",
       "</table>\n",
       "</div>"
      ],
      "text/plain": [
       "   apples  oranges\n",
       "0       3        0\n",
       "1       2        3\n",
       "2       0        7\n",
       "3       1        2"
      ]
     },
     "execution_count": 59,
     "metadata": {},
     "output_type": "execute_result"
    }
   ],
   "source": [
    "fruits= pd.DataFrame(fruit_list) #index will be assigned itself in number from 0-3\n",
    "vegetables=pd.DataFrame(vegetable_list)\n",
    "#fruits = pd.DataFrame(data, index=['sara','Jane','Jack','Sid'])\n",
    "fruits.head()"
   ]
  },
  {
   "cell_type": "markdown",
   "metadata": {
    "id": "3nww0MM4ODt9"
   },
   "source": [
    "get information based on the Index.\n",
    "Read the value from Index.  "
   ]
  },
  {
   "cell_type": "code",
   "execution_count": 35,
   "metadata": {
    "colab": {
     "base_uri": "https://localhost:8080/"
    },
    "id": "IlA3OjT2N0uA",
    "outputId": "a951de6d-eca0-449c-a119-285d3b8134a1"
   },
   "outputs": [
    {
     "data": {
      "text/plain": [
       "apples     3\n",
       "oranges    0\n",
       "Name: 0, dtype: int64"
      ]
     },
     "execution_count": 35,
     "metadata": {},
     "output_type": "execute_result"
    }
   ],
   "source": [
    "fruits.loc[0]"
   ]
  },
  {
   "cell_type": "code",
   "execution_count": 61,
   "metadata": {
    "colab": {
     "base_uri": "https://localhost:8080/"
    },
    "id": "eBMyXcHRR79-",
    "outputId": "0cb5e3c8-85c1-4651-9568-0332807c2601"
   },
   "outputs": [
    {
     "data": {
      "text/plain": [
       "(8, 4)"
      ]
     },
     "execution_count": 61,
     "metadata": {},
     "output_type": "execute_result"
    }
   ],
   "source": [
    "shop= fruits.append(vegetables)\n",
    "shop.shape"
   ]
  },
  {
   "cell_type": "code",
   "execution_count": 62,
   "metadata": {
    "colab": {
     "base_uri": "https://localhost:8080/"
    },
    "id": "tkOgDJNySI4c",
    "outputId": "543d89a5-ebdf-45dc-9d0e-f30ce9f971df"
   },
   "outputs": [
    {
     "data": {
      "text/plain": [
       "Index(['apples', 'oranges', 'kale', 'potatoes'], dtype='object')"
      ]
     },
     "execution_count": 62,
     "metadata": {},
     "output_type": "execute_result"
    }
   ],
   "source": [
    "shop.columns"
   ]
  },
  {
   "cell_type": "code",
   "execution_count": 72,
   "metadata": {
    "colab": {
     "base_uri": "https://localhost:8080/",
     "height": 203
    },
    "id": "o3tnazSLSPQH",
    "outputId": "82b45519-1041-42e7-c334-ce9ec8532bfd"
   },
   "outputs": [
    {
     "data": {
      "text/html": [
       "<div>\n",
       "<style scoped>\n",
       "    .dataframe tbody tr th:only-of-type {\n",
       "        vertical-align: middle;\n",
       "    }\n",
       "\n",
       "    .dataframe tbody tr th {\n",
       "        vertical-align: top;\n",
       "    }\n",
       "\n",
       "    .dataframe thead th {\n",
       "        text-align: right;\n",
       "    }\n",
       "</style>\n",
       "<table border=\"1\" class=\"dataframe\">\n",
       "  <thead>\n",
       "    <tr style=\"text-align: right;\">\n",
       "      <th></th>\n",
       "      <th>Green_Apples</th>\n",
       "      <th>oranges</th>\n",
       "      <th>kale</th>\n",
       "      <th>potatoes</th>\n",
       "    </tr>\n",
       "  </thead>\n",
       "  <tbody>\n",
       "    <tr>\n",
       "      <th>0</th>\n",
       "      <td>3.0</td>\n",
       "      <td>0.0</td>\n",
       "      <td>NaN</td>\n",
       "      <td>NaN</td>\n",
       "    </tr>\n",
       "    <tr>\n",
       "      <th>1</th>\n",
       "      <td>2.0</td>\n",
       "      <td>3.0</td>\n",
       "      <td>NaN</td>\n",
       "      <td>NaN</td>\n",
       "    </tr>\n",
       "    <tr>\n",
       "      <th>2</th>\n",
       "      <td>0.0</td>\n",
       "      <td>7.0</td>\n",
       "      <td>NaN</td>\n",
       "      <td>NaN</td>\n",
       "    </tr>\n",
       "    <tr>\n",
       "      <th>3</th>\n",
       "      <td>1.0</td>\n",
       "      <td>2.0</td>\n",
       "      <td>NaN</td>\n",
       "      <td>NaN</td>\n",
       "    </tr>\n",
       "    <tr>\n",
       "      <th>0</th>\n",
       "      <td>NaN</td>\n",
       "      <td>NaN</td>\n",
       "      <td>3.0</td>\n",
       "      <td>0.0</td>\n",
       "    </tr>\n",
       "  </tbody>\n",
       "</table>\n",
       "</div>"
      ],
      "text/plain": [
       "   Green_Apples  oranges  kale  potatoes\n",
       "0           3.0      0.0   NaN       NaN\n",
       "1           2.0      3.0   NaN       NaN\n",
       "2           0.0      7.0   NaN       NaN\n",
       "3           1.0      2.0   NaN       NaN\n",
       "0           NaN      NaN   3.0       0.0"
      ]
     },
     "execution_count": 72,
     "metadata": {},
     "output_type": "execute_result"
    }
   ],
   "source": [
    "shop.rename(columns={'apples':'Green_Apples'},inplace=True)\n",
    "shop.head()"
   ]
  },
  {
   "cell_type": "code",
   "execution_count": 74,
   "metadata": {
    "colab": {
     "base_uri": "https://localhost:8080/",
     "height": 203
    },
    "id": "HqW7kLMYSlPd",
    "outputId": "064e519c-e839-4b56-d285-238976a2a993"
   },
   "outputs": [
    {
     "data": {
      "text/html": [
       "<div>\n",
       "<style scoped>\n",
       "    .dataframe tbody tr th:only-of-type {\n",
       "        vertical-align: middle;\n",
       "    }\n",
       "\n",
       "    .dataframe tbody tr th {\n",
       "        vertical-align: top;\n",
       "    }\n",
       "\n",
       "    .dataframe thead th {\n",
       "        text-align: right;\n",
       "    }\n",
       "</style>\n",
       "<table border=\"1\" class=\"dataframe\">\n",
       "  <thead>\n",
       "    <tr style=\"text-align: right;\">\n",
       "      <th></th>\n",
       "      <th>green_apples</th>\n",
       "      <th>oranges</th>\n",
       "      <th>kale</th>\n",
       "      <th>potatoes</th>\n",
       "    </tr>\n",
       "  </thead>\n",
       "  <tbody>\n",
       "    <tr>\n",
       "      <th>0</th>\n",
       "      <td>3.0</td>\n",
       "      <td>0.0</td>\n",
       "      <td>NaN</td>\n",
       "      <td>NaN</td>\n",
       "    </tr>\n",
       "    <tr>\n",
       "      <th>1</th>\n",
       "      <td>2.0</td>\n",
       "      <td>3.0</td>\n",
       "      <td>NaN</td>\n",
       "      <td>NaN</td>\n",
       "    </tr>\n",
       "    <tr>\n",
       "      <th>2</th>\n",
       "      <td>0.0</td>\n",
       "      <td>7.0</td>\n",
       "      <td>NaN</td>\n",
       "      <td>NaN</td>\n",
       "    </tr>\n",
       "    <tr>\n",
       "      <th>3</th>\n",
       "      <td>1.0</td>\n",
       "      <td>2.0</td>\n",
       "      <td>NaN</td>\n",
       "      <td>NaN</td>\n",
       "    </tr>\n",
       "    <tr>\n",
       "      <th>0</th>\n",
       "      <td>NaN</td>\n",
       "      <td>NaN</td>\n",
       "      <td>3.0</td>\n",
       "      <td>0.0</td>\n",
       "    </tr>\n",
       "  </tbody>\n",
       "</table>\n",
       "</div>"
      ],
      "text/plain": [
       "   green_apples  oranges  kale  potatoes\n",
       "0           3.0      0.0   NaN       NaN\n",
       "1           2.0      3.0   NaN       NaN\n",
       "2           0.0      7.0   NaN       NaN\n",
       "3           1.0      2.0   NaN       NaN\n",
       "0           NaN      NaN   3.0       0.0"
      ]
     },
     "execution_count": 74,
     "metadata": {},
     "output_type": "execute_result"
    }
   ],
   "source": [
    "shop.columns=[col.lower() for col in shop]\n",
    "shop.head()"
   ]
  },
  {
   "cell_type": "code",
   "execution_count": null,
   "metadata": {
    "id": "dZrd20X5NBGt"
   },
   "outputs": [],
   "source": [
    "fruits.to_csv('new_customers.csv')"
   ]
  },
  {
   "cell_type": "markdown",
   "metadata": {
    "id": "q4ztFgeETF8-"
   },
   "source": [
    "#Missing Values"
   ]
  },
  {
   "cell_type": "markdown",
   "metadata": {
    "id": "HA47XSMNUZTx"
   },
   "source": [
    "##Drop Missing Values"
   ]
  },
  {
   "cell_type": "code",
   "execution_count": 91,
   "metadata": {
    "colab": {
     "base_uri": "https://localhost:8080/"
    },
    "id": "r9LXM-nzTLiZ",
    "outputId": "585292d8-4b0e-461c-e1b9-b46bb08069c7"
   },
   "outputs": [
    {
     "data": {
      "text/plain": [
       "name        0\n",
       "mfr         0\n",
       "type        0\n",
       "calories    0\n",
       "protein     0\n",
       "fat         0\n",
       "sodium      0\n",
       "fiber       0\n",
       "carbo       0\n",
       "sugars      0\n",
       "potass      0\n",
       "vitamins    0\n",
       "shelf       0\n",
       "weight      0\n",
       "cups        0\n",
       "rating      0\n",
       "dtype: int64"
      ]
     },
     "execution_count": 91,
     "metadata": {},
     "output_type": "execute_result"
    }
   ],
   "source": [
    "cereal.isnull()\n",
    "cereal.isnull().sum()"
   ]
  },
  {
   "cell_type": "code",
   "execution_count": 92,
   "metadata": {
    "colab": {
     "base_uri": "https://localhost:8080/",
     "height": 417
    },
    "id": "_0QSh_1uTcOx",
    "outputId": "050b82a6-7ee3-48e2-f240-07cfea007bb4"
   },
   "outputs": [
    {
     "data": {
      "text/html": [
       "<div>\n",
       "<style scoped>\n",
       "    .dataframe tbody tr th:only-of-type {\n",
       "        vertical-align: middle;\n",
       "    }\n",
       "\n",
       "    .dataframe tbody tr th {\n",
       "        vertical-align: top;\n",
       "    }\n",
       "\n",
       "    .dataframe thead th {\n",
       "        text-align: right;\n",
       "    }\n",
       "</style>\n",
       "<table border=\"1\" class=\"dataframe\">\n",
       "  <thead>\n",
       "    <tr style=\"text-align: right;\">\n",
       "      <th></th>\n",
       "      <th>name</th>\n",
       "      <th>mfr</th>\n",
       "      <th>type</th>\n",
       "      <th>calories</th>\n",
       "      <th>protein</th>\n",
       "      <th>fat</th>\n",
       "      <th>sodium</th>\n",
       "      <th>fiber</th>\n",
       "      <th>carbo</th>\n",
       "      <th>sugars</th>\n",
       "      <th>potass</th>\n",
       "      <th>vitamins</th>\n",
       "      <th>shelf</th>\n",
       "      <th>weight</th>\n",
       "      <th>cups</th>\n",
       "      <th>rating</th>\n",
       "    </tr>\n",
       "  </thead>\n",
       "  <tbody>\n",
       "    <tr>\n",
       "      <th>0</th>\n",
       "      <td>100% Bran</td>\n",
       "      <td>N</td>\n",
       "      <td>C</td>\n",
       "      <td>70</td>\n",
       "      <td>4</td>\n",
       "      <td>1</td>\n",
       "      <td>130</td>\n",
       "      <td>10.0</td>\n",
       "      <td>5.0</td>\n",
       "      <td>6</td>\n",
       "      <td>280</td>\n",
       "      <td>25</td>\n",
       "      <td>3</td>\n",
       "      <td>1.0</td>\n",
       "      <td>0.33</td>\n",
       "      <td>68.402973</td>\n",
       "    </tr>\n",
       "    <tr>\n",
       "      <th>1</th>\n",
       "      <td>100% Natural Bran</td>\n",
       "      <td>Q</td>\n",
       "      <td>C</td>\n",
       "      <td>120</td>\n",
       "      <td>3</td>\n",
       "      <td>5</td>\n",
       "      <td>15</td>\n",
       "      <td>2.0</td>\n",
       "      <td>8.0</td>\n",
       "      <td>8</td>\n",
       "      <td>135</td>\n",
       "      <td>0</td>\n",
       "      <td>3</td>\n",
       "      <td>1.0</td>\n",
       "      <td>1.00</td>\n",
       "      <td>33.983679</td>\n",
       "    </tr>\n",
       "    <tr>\n",
       "      <th>2</th>\n",
       "      <td>All-Bran</td>\n",
       "      <td>K</td>\n",
       "      <td>C</td>\n",
       "      <td>70</td>\n",
       "      <td>4</td>\n",
       "      <td>1</td>\n",
       "      <td>260</td>\n",
       "      <td>9.0</td>\n",
       "      <td>7.0</td>\n",
       "      <td>5</td>\n",
       "      <td>320</td>\n",
       "      <td>25</td>\n",
       "      <td>3</td>\n",
       "      <td>1.0</td>\n",
       "      <td>0.33</td>\n",
       "      <td>59.425505</td>\n",
       "    </tr>\n",
       "    <tr>\n",
       "      <th>3</th>\n",
       "      <td>All-Bran with Extra Fiber</td>\n",
       "      <td>K</td>\n",
       "      <td>C</td>\n",
       "      <td>50</td>\n",
       "      <td>4</td>\n",
       "      <td>0</td>\n",
       "      <td>140</td>\n",
       "      <td>14.0</td>\n",
       "      <td>8.0</td>\n",
       "      <td>0</td>\n",
       "      <td>330</td>\n",
       "      <td>25</td>\n",
       "      <td>3</td>\n",
       "      <td>1.0</td>\n",
       "      <td>0.50</td>\n",
       "      <td>93.704912</td>\n",
       "    </tr>\n",
       "    <tr>\n",
       "      <th>4</th>\n",
       "      <td>Almond Delight</td>\n",
       "      <td>R</td>\n",
       "      <td>C</td>\n",
       "      <td>110</td>\n",
       "      <td>2</td>\n",
       "      <td>2</td>\n",
       "      <td>200</td>\n",
       "      <td>1.0</td>\n",
       "      <td>14.0</td>\n",
       "      <td>8</td>\n",
       "      <td>-1</td>\n",
       "      <td>25</td>\n",
       "      <td>3</td>\n",
       "      <td>1.0</td>\n",
       "      <td>0.75</td>\n",
       "      <td>34.384843</td>\n",
       "    </tr>\n",
       "    <tr>\n",
       "      <th>...</th>\n",
       "      <td>...</td>\n",
       "      <td>...</td>\n",
       "      <td>...</td>\n",
       "      <td>...</td>\n",
       "      <td>...</td>\n",
       "      <td>...</td>\n",
       "      <td>...</td>\n",
       "      <td>...</td>\n",
       "      <td>...</td>\n",
       "      <td>...</td>\n",
       "      <td>...</td>\n",
       "      <td>...</td>\n",
       "      <td>...</td>\n",
       "      <td>...</td>\n",
       "      <td>...</td>\n",
       "      <td>...</td>\n",
       "    </tr>\n",
       "    <tr>\n",
       "      <th>72</th>\n",
       "      <td>Triples</td>\n",
       "      <td>G</td>\n",
       "      <td>C</td>\n",
       "      <td>110</td>\n",
       "      <td>2</td>\n",
       "      <td>1</td>\n",
       "      <td>250</td>\n",
       "      <td>0.0</td>\n",
       "      <td>21.0</td>\n",
       "      <td>3</td>\n",
       "      <td>60</td>\n",
       "      <td>25</td>\n",
       "      <td>3</td>\n",
       "      <td>1.0</td>\n",
       "      <td>0.75</td>\n",
       "      <td>39.106174</td>\n",
       "    </tr>\n",
       "    <tr>\n",
       "      <th>73</th>\n",
       "      <td>Trix</td>\n",
       "      <td>G</td>\n",
       "      <td>C</td>\n",
       "      <td>110</td>\n",
       "      <td>1</td>\n",
       "      <td>1</td>\n",
       "      <td>140</td>\n",
       "      <td>0.0</td>\n",
       "      <td>13.0</td>\n",
       "      <td>12</td>\n",
       "      <td>25</td>\n",
       "      <td>25</td>\n",
       "      <td>2</td>\n",
       "      <td>1.0</td>\n",
       "      <td>1.00</td>\n",
       "      <td>27.753301</td>\n",
       "    </tr>\n",
       "    <tr>\n",
       "      <th>74</th>\n",
       "      <td>Wheat Chex</td>\n",
       "      <td>R</td>\n",
       "      <td>C</td>\n",
       "      <td>100</td>\n",
       "      <td>3</td>\n",
       "      <td>1</td>\n",
       "      <td>230</td>\n",
       "      <td>3.0</td>\n",
       "      <td>17.0</td>\n",
       "      <td>3</td>\n",
       "      <td>115</td>\n",
       "      <td>25</td>\n",
       "      <td>1</td>\n",
       "      <td>1.0</td>\n",
       "      <td>0.67</td>\n",
       "      <td>49.787445</td>\n",
       "    </tr>\n",
       "    <tr>\n",
       "      <th>75</th>\n",
       "      <td>Wheaties</td>\n",
       "      <td>G</td>\n",
       "      <td>C</td>\n",
       "      <td>100</td>\n",
       "      <td>3</td>\n",
       "      <td>1</td>\n",
       "      <td>200</td>\n",
       "      <td>3.0</td>\n",
       "      <td>17.0</td>\n",
       "      <td>3</td>\n",
       "      <td>110</td>\n",
       "      <td>25</td>\n",
       "      <td>1</td>\n",
       "      <td>1.0</td>\n",
       "      <td>1.00</td>\n",
       "      <td>51.592193</td>\n",
       "    </tr>\n",
       "    <tr>\n",
       "      <th>76</th>\n",
       "      <td>Wheaties Honey Gold</td>\n",
       "      <td>G</td>\n",
       "      <td>C</td>\n",
       "      <td>110</td>\n",
       "      <td>2</td>\n",
       "      <td>1</td>\n",
       "      <td>200</td>\n",
       "      <td>1.0</td>\n",
       "      <td>16.0</td>\n",
       "      <td>8</td>\n",
       "      <td>60</td>\n",
       "      <td>25</td>\n",
       "      <td>1</td>\n",
       "      <td>1.0</td>\n",
       "      <td>0.75</td>\n",
       "      <td>36.187559</td>\n",
       "    </tr>\n",
       "  </tbody>\n",
       "</table>\n",
       "<p>77 rows × 16 columns</p>\n",
       "</div>"
      ],
      "text/plain": [
       "                         name mfr type  ...  weight  cups     rating\n",
       "0                   100% Bran   N    C  ...     1.0  0.33  68.402973\n",
       "1           100% Natural Bran   Q    C  ...     1.0  1.00  33.983679\n",
       "2                    All-Bran   K    C  ...     1.0  0.33  59.425505\n",
       "3   All-Bran with Extra Fiber   K    C  ...     1.0  0.50  93.704912\n",
       "4              Almond Delight   R    C  ...     1.0  0.75  34.384843\n",
       "..                        ...  ..  ...  ...     ...   ...        ...\n",
       "72                    Triples   G    C  ...     1.0  0.75  39.106174\n",
       "73                       Trix   G    C  ...     1.0  1.00  27.753301\n",
       "74                 Wheat Chex   R    C  ...     1.0  0.67  49.787445\n",
       "75                   Wheaties   G    C  ...     1.0  1.00  51.592193\n",
       "76        Wheaties Honey Gold   G    C  ...     1.0  0.75  36.187559\n",
       "\n",
       "[77 rows x 16 columns]"
      ]
     },
     "execution_count": 92,
     "metadata": {},
     "output_type": "execute_result"
    }
   ],
   "source": [
    "cereal.dropna()"
   ]
  },
  {
   "cell_type": "markdown",
   "metadata": {
    "id": "i03kkU4-UW4y"
   },
   "source": [
    "##Data Imputation \n",
    "instead of removing we just replace null with some other values e.g mean of the existing values. \n"
   ]
  },
  {
   "cell_type": "markdown",
   "metadata": {
    "id": "b9Y_roPOU3WS"
   },
   "source": [
    "##Slicing, Indexing"
   ]
  },
  {
   "cell_type": "code",
   "execution_count": 94,
   "metadata": {
    "colab": {
     "base_uri": "https://localhost:8080/"
    },
    "id": "LSe8PBSTUWni",
    "outputId": "d769bedc-93ac-48eb-fcd3-1a567b035e9d"
   },
   "outputs": [
    {
     "data": {
      "text/plain": [
       "Index(['name', 'mfr', 'type', 'calories', 'protein', 'fat', 'sodium', 'fiber',\n",
       "       'carbo', 'sugars', 'potass', 'vitamins', 'shelf', 'weight', 'cups',\n",
       "       'rating'],\n",
       "      dtype='object')"
      ]
     },
     "execution_count": 94,
     "metadata": {},
     "output_type": "execute_result"
    }
   ],
   "source": [
    "cereal.columns"
   ]
  },
  {
   "cell_type": "code",
   "execution_count": 100,
   "metadata": {
    "colab": {
     "base_uri": "https://localhost:8080/"
    },
    "id": "SPqUJ85iU-mB",
    "outputId": "8637b19a-a706-46d4-d25c-e1fe6e8f2171"
   },
   "outputs": [
    {
     "data": {
      "text/plain": [
       "pandas.core.series.Series"
      ]
     },
     "execution_count": 100,
     "metadata": {},
     "output_type": "execute_result"
    }
   ],
   "source": [
    "type_col=cereal['type']\n",
    "type(type_col)"
   ]
  },
  {
   "cell_type": "code",
   "execution_count": 102,
   "metadata": {
    "colab": {
     "base_uri": "https://localhost:8080/"
    },
    "id": "iE82oxl5XmFg",
    "outputId": "c55bd93d-1ce4-46b7-fec2-9266a703bb22"
   },
   "outputs": [
    {
     "data": {
      "text/plain": [
       "pandas.core.frame.DataFrame"
      ]
     },
     "execution_count": 102,
     "metadata": {},
     "output_type": "execute_result"
    }
   ],
   "source": [
    "type_cereal=cereal[['type']]\n",
    "type(type_cereal)"
   ]
  },
  {
   "cell_type": "code",
   "execution_count": 108,
   "metadata": {
    "colab": {
     "base_uri": "https://localhost:8080/",
     "height": 417
    },
    "id": "gP3I0YKOXxiv",
    "outputId": "486d3384-ef2c-4f38-e3f0-08c41372dc71"
   },
   "outputs": [
    {
     "data": {
      "text/html": [
       "<div>\n",
       "<style scoped>\n",
       "    .dataframe tbody tr th:only-of-type {\n",
       "        vertical-align: middle;\n",
       "    }\n",
       "\n",
       "    .dataframe tbody tr th {\n",
       "        vertical-align: top;\n",
       "    }\n",
       "\n",
       "    .dataframe thead th {\n",
       "        text-align: right;\n",
       "    }\n",
       "</style>\n",
       "<table border=\"1\" class=\"dataframe\">\n",
       "  <thead>\n",
       "    <tr style=\"text-align: right;\">\n",
       "      <th></th>\n",
       "      <th>name</th>\n",
       "      <th>rating</th>\n",
       "    </tr>\n",
       "  </thead>\n",
       "  <tbody>\n",
       "    <tr>\n",
       "      <th>0</th>\n",
       "      <td>100% Bran</td>\n",
       "      <td>68.402973</td>\n",
       "    </tr>\n",
       "    <tr>\n",
       "      <th>1</th>\n",
       "      <td>100% Natural Bran</td>\n",
       "      <td>33.983679</td>\n",
       "    </tr>\n",
       "    <tr>\n",
       "      <th>2</th>\n",
       "      <td>All-Bran</td>\n",
       "      <td>59.425505</td>\n",
       "    </tr>\n",
       "    <tr>\n",
       "      <th>3</th>\n",
       "      <td>All-Bran with Extra Fiber</td>\n",
       "      <td>93.704912</td>\n",
       "    </tr>\n",
       "    <tr>\n",
       "      <th>4</th>\n",
       "      <td>Almond Delight</td>\n",
       "      <td>34.384843</td>\n",
       "    </tr>\n",
       "    <tr>\n",
       "      <th>...</th>\n",
       "      <td>...</td>\n",
       "      <td>...</td>\n",
       "    </tr>\n",
       "    <tr>\n",
       "      <th>72</th>\n",
       "      <td>Triples</td>\n",
       "      <td>39.106174</td>\n",
       "    </tr>\n",
       "    <tr>\n",
       "      <th>73</th>\n",
       "      <td>Trix</td>\n",
       "      <td>27.753301</td>\n",
       "    </tr>\n",
       "    <tr>\n",
       "      <th>74</th>\n",
       "      <td>Wheat Chex</td>\n",
       "      <td>49.787445</td>\n",
       "    </tr>\n",
       "    <tr>\n",
       "      <th>75</th>\n",
       "      <td>Wheaties</td>\n",
       "      <td>51.592193</td>\n",
       "    </tr>\n",
       "    <tr>\n",
       "      <th>76</th>\n",
       "      <td>Wheaties Honey Gold</td>\n",
       "      <td>36.187559</td>\n",
       "    </tr>\n",
       "  </tbody>\n",
       "</table>\n",
       "<p>77 rows × 2 columns</p>\n",
       "</div>"
      ],
      "text/plain": [
       "                         name     rating\n",
       "0                   100% Bran  68.402973\n",
       "1           100% Natural Bran  33.983679\n",
       "2                    All-Bran  59.425505\n",
       "3   All-Bran with Extra Fiber  93.704912\n",
       "4              Almond Delight  34.384843\n",
       "..                        ...        ...\n",
       "72                    Triples  39.106174\n",
       "73                       Trix  27.753301\n",
       "74                 Wheat Chex  49.787445\n",
       "75                   Wheaties  51.592193\n",
       "76        Wheaties Honey Gold  36.187559\n",
       "\n",
       "[77 rows x 2 columns]"
      ]
     },
     "execution_count": 108,
     "metadata": {},
     "output_type": "execute_result"
    }
   ],
   "source": [
    "ratings=cereal[['name','rating']]\n",
    "ratings"
   ]
  },
  {
   "cell_type": "code",
   "execution_count": 116,
   "metadata": {
    "colab": {
     "base_uri": "https://localhost:8080/",
     "height": 110
    },
    "id": "vcl20zxZYC_o",
    "outputId": "d3969a61-ce33-4cb2-d0c2-8025db13bd9e"
   },
   "outputs": [
    {
     "data": {
      "text/html": [
       "<div>\n",
       "<style scoped>\n",
       "    .dataframe tbody tr th:only-of-type {\n",
       "        vertical-align: middle;\n",
       "    }\n",
       "\n",
       "    .dataframe tbody tr th {\n",
       "        vertical-align: top;\n",
       "    }\n",
       "\n",
       "    .dataframe thead th {\n",
       "        text-align: right;\n",
       "    }\n",
       "</style>\n",
       "<table border=\"1\" class=\"dataframe\">\n",
       "  <thead>\n",
       "    <tr style=\"text-align: right;\">\n",
       "      <th></th>\n",
       "      <th>name</th>\n",
       "      <th>mfr</th>\n",
       "      <th>type</th>\n",
       "      <th>calories</th>\n",
       "      <th>protein</th>\n",
       "      <th>fat</th>\n",
       "      <th>sodium</th>\n",
       "      <th>fiber</th>\n",
       "      <th>carbo</th>\n",
       "      <th>sugars</th>\n",
       "      <th>potass</th>\n",
       "      <th>vitamins</th>\n",
       "      <th>shelf</th>\n",
       "      <th>weight</th>\n",
       "      <th>cups</th>\n",
       "      <th>rating</th>\n",
       "    </tr>\n",
       "  </thead>\n",
       "  <tbody>\n",
       "    <tr>\n",
       "      <th>70</th>\n",
       "      <td>Total Raisin Bran</td>\n",
       "      <td>G</td>\n",
       "      <td>C</td>\n",
       "      <td>140</td>\n",
       "      <td>3</td>\n",
       "      <td>1</td>\n",
       "      <td>190</td>\n",
       "      <td>4.0</td>\n",
       "      <td>15.0</td>\n",
       "      <td>14</td>\n",
       "      <td>230</td>\n",
       "      <td>100</td>\n",
       "      <td>3</td>\n",
       "      <td>1.5</td>\n",
       "      <td>1.0</td>\n",
       "      <td>28.592785</td>\n",
       "    </tr>\n",
       "    <tr>\n",
       "      <th>71</th>\n",
       "      <td>Total Whole Grain</td>\n",
       "      <td>G</td>\n",
       "      <td>C</td>\n",
       "      <td>100</td>\n",
       "      <td>3</td>\n",
       "      <td>1</td>\n",
       "      <td>200</td>\n",
       "      <td>3.0</td>\n",
       "      <td>16.0</td>\n",
       "      <td>3</td>\n",
       "      <td>110</td>\n",
       "      <td>100</td>\n",
       "      <td>3</td>\n",
       "      <td>1.0</td>\n",
       "      <td>1.0</td>\n",
       "      <td>46.658844</td>\n",
       "    </tr>\n",
       "  </tbody>\n",
       "</table>\n",
       "</div>"
      ],
      "text/plain": [
       "                 name mfr type  calories  ...  shelf  weight  cups     rating\n",
       "70  Total Raisin Bran   G    C       140  ...      3     1.5   1.0  28.592785\n",
       "71  Total Whole Grain   G    C       100  ...      3     1.0   1.0  46.658844\n",
       "\n",
       "[2 rows x 16 columns]"
      ]
     },
     "execution_count": 116,
     "metadata": {},
     "output_type": "execute_result"
    }
   ],
   "source": [
    "result=cereal.iloc[72]\n",
    "#result=cereal.iloc[70:72]\n",
    "result"
   ]
  },
  {
   "cell_type": "code",
   "execution_count": 128,
   "metadata": {
    "colab": {
     "base_uri": "https://localhost:8080/",
     "height": 80
    },
    "id": "84cY5IgFZk-w",
    "outputId": "63373071-1904-45fd-ec0e-dd5ae0913fed"
   },
   "outputs": [
    {
     "data": {
      "text/html": [
       "<div>\n",
       "<style scoped>\n",
       "    .dataframe tbody tr th:only-of-type {\n",
       "        vertical-align: middle;\n",
       "    }\n",
       "\n",
       "    .dataframe tbody tr th {\n",
       "        vertical-align: top;\n",
       "    }\n",
       "\n",
       "    .dataframe thead th {\n",
       "        text-align: right;\n",
       "    }\n",
       "</style>\n",
       "<table border=\"1\" class=\"dataframe\">\n",
       "  <thead>\n",
       "    <tr style=\"text-align: right;\">\n",
       "      <th></th>\n",
       "      <th>name</th>\n",
       "      <th>mfr</th>\n",
       "      <th>type</th>\n",
       "      <th>calories</th>\n",
       "      <th>protein</th>\n",
       "      <th>fat</th>\n",
       "      <th>sodium</th>\n",
       "      <th>fiber</th>\n",
       "      <th>carbo</th>\n",
       "      <th>sugars</th>\n",
       "      <th>potass</th>\n",
       "      <th>vitamins</th>\n",
       "      <th>shelf</th>\n",
       "      <th>weight</th>\n",
       "      <th>cups</th>\n",
       "      <th>rating</th>\n",
       "    </tr>\n",
       "  </thead>\n",
       "  <tbody>\n",
       "    <tr>\n",
       "      <th>71</th>\n",
       "      <td>Total Whole Grain</td>\n",
       "      <td>G</td>\n",
       "      <td>C</td>\n",
       "      <td>100</td>\n",
       "      <td>3</td>\n",
       "      <td>1</td>\n",
       "      <td>200</td>\n",
       "      <td>3.0</td>\n",
       "      <td>16.0</td>\n",
       "      <td>3</td>\n",
       "      <td>110</td>\n",
       "      <td>100</td>\n",
       "      <td>3</td>\n",
       "      <td>1.0</td>\n",
       "      <td>1.0</td>\n",
       "      <td>46.658844</td>\n",
       "    </tr>\n",
       "  </tbody>\n",
       "</table>\n",
       "</div>"
      ],
      "text/plain": [
       "                 name mfr type  calories  ...  shelf  weight  cups     rating\n",
       "71  Total Whole Grain   G    C       100  ...      3     1.0   1.0  46.658844\n",
       "\n",
       "[1 rows x 16 columns]"
      ]
     },
     "execution_count": 128,
     "metadata": {},
     "output_type": "execute_result"
    }
   ],
   "source": [
    "filtered = cereal[cereal['name']=='Total Whole Grain']\n",
    "filtered"
   ]
  },
  {
   "cell_type": "code",
   "execution_count": 129,
   "metadata": {
    "colab": {
     "base_uri": "https://localhost:8080/",
     "height": 203
    },
    "id": "hEmsR07Ya7oP",
    "outputId": "61786cbe-a003-4f40-fdfd-a067cdd2e506"
   },
   "outputs": [
    {
     "data": {
      "text/html": [
       "<div>\n",
       "<style scoped>\n",
       "    .dataframe tbody tr th:only-of-type {\n",
       "        vertical-align: middle;\n",
       "    }\n",
       "\n",
       "    .dataframe tbody tr th {\n",
       "        vertical-align: top;\n",
       "    }\n",
       "\n",
       "    .dataframe thead th {\n",
       "        text-align: right;\n",
       "    }\n",
       "</style>\n",
       "<table border=\"1\" class=\"dataframe\">\n",
       "  <thead>\n",
       "    <tr style=\"text-align: right;\">\n",
       "      <th></th>\n",
       "      <th>name</th>\n",
       "      <th>mfr</th>\n",
       "      <th>type</th>\n",
       "      <th>calories</th>\n",
       "      <th>protein</th>\n",
       "      <th>fat</th>\n",
       "      <th>sodium</th>\n",
       "      <th>fiber</th>\n",
       "      <th>carbo</th>\n",
       "      <th>sugars</th>\n",
       "      <th>potass</th>\n",
       "      <th>vitamins</th>\n",
       "      <th>shelf</th>\n",
       "      <th>weight</th>\n",
       "      <th>cups</th>\n",
       "      <th>rating</th>\n",
       "    </tr>\n",
       "  </thead>\n",
       "  <tbody>\n",
       "    <tr>\n",
       "      <th>0</th>\n",
       "      <td>100% Bran</td>\n",
       "      <td>N</td>\n",
       "      <td>C</td>\n",
       "      <td>70</td>\n",
       "      <td>4</td>\n",
       "      <td>1</td>\n",
       "      <td>130</td>\n",
       "      <td>10.0</td>\n",
       "      <td>5.0</td>\n",
       "      <td>6</td>\n",
       "      <td>280</td>\n",
       "      <td>25</td>\n",
       "      <td>3</td>\n",
       "      <td>1.0</td>\n",
       "      <td>0.33</td>\n",
       "      <td>68.402973</td>\n",
       "    </tr>\n",
       "    <tr>\n",
       "      <th>2</th>\n",
       "      <td>All-Bran</td>\n",
       "      <td>K</td>\n",
       "      <td>C</td>\n",
       "      <td>70</td>\n",
       "      <td>4</td>\n",
       "      <td>1</td>\n",
       "      <td>260</td>\n",
       "      <td>9.0</td>\n",
       "      <td>7.0</td>\n",
       "      <td>5</td>\n",
       "      <td>320</td>\n",
       "      <td>25</td>\n",
       "      <td>3</td>\n",
       "      <td>1.0</td>\n",
       "      <td>0.33</td>\n",
       "      <td>59.425505</td>\n",
       "    </tr>\n",
       "    <tr>\n",
       "      <th>3</th>\n",
       "      <td>All-Bran with Extra Fiber</td>\n",
       "      <td>K</td>\n",
       "      <td>C</td>\n",
       "      <td>50</td>\n",
       "      <td>4</td>\n",
       "      <td>0</td>\n",
       "      <td>140</td>\n",
       "      <td>14.0</td>\n",
       "      <td>8.0</td>\n",
       "      <td>0</td>\n",
       "      <td>330</td>\n",
       "      <td>25</td>\n",
       "      <td>3</td>\n",
       "      <td>1.0</td>\n",
       "      <td>0.50</td>\n",
       "      <td>93.704912</td>\n",
       "    </tr>\n",
       "    <tr>\n",
       "      <th>8</th>\n",
       "      <td>Bran Chex</td>\n",
       "      <td>R</td>\n",
       "      <td>C</td>\n",
       "      <td>90</td>\n",
       "      <td>2</td>\n",
       "      <td>1</td>\n",
       "      <td>200</td>\n",
       "      <td>4.0</td>\n",
       "      <td>15.0</td>\n",
       "      <td>6</td>\n",
       "      <td>125</td>\n",
       "      <td>25</td>\n",
       "      <td>1</td>\n",
       "      <td>1.0</td>\n",
       "      <td>0.67</td>\n",
       "      <td>49.120253</td>\n",
       "    </tr>\n",
       "    <tr>\n",
       "      <th>9</th>\n",
       "      <td>Bran Flakes</td>\n",
       "      <td>P</td>\n",
       "      <td>C</td>\n",
       "      <td>90</td>\n",
       "      <td>3</td>\n",
       "      <td>0</td>\n",
       "      <td>210</td>\n",
       "      <td>5.0</td>\n",
       "      <td>13.0</td>\n",
       "      <td>5</td>\n",
       "      <td>190</td>\n",
       "      <td>25</td>\n",
       "      <td>3</td>\n",
       "      <td>1.0</td>\n",
       "      <td>0.67</td>\n",
       "      <td>53.313813</td>\n",
       "    </tr>\n",
       "  </tbody>\n",
       "</table>\n",
       "</div>"
      ],
      "text/plain": [
       "                        name mfr type  calories  ...  shelf  weight  cups     rating\n",
       "0                  100% Bran   N    C        70  ...      3     1.0  0.33  68.402973\n",
       "2                   All-Bran   K    C        70  ...      3     1.0  0.33  59.425505\n",
       "3  All-Bran with Extra Fiber   K    C        50  ...      3     1.0  0.50  93.704912\n",
       "8                  Bran Chex   R    C        90  ...      1     1.0  0.67  49.120253\n",
       "9                Bran Flakes   P    C        90  ...      3     1.0  0.67  53.313813\n",
       "\n",
       "[5 rows x 16 columns]"
      ]
     },
     "execution_count": 129,
     "metadata": {},
     "output_type": "execute_result"
    }
   ],
   "source": [
    "cereal[cereal['rating']>=46].head()"
   ]
  },
  {
   "cell_type": "code",
   "execution_count": 131,
   "metadata": {
    "colab": {
     "base_uri": "https://localhost:8080/",
     "height": 850
    },
    "id": "tn6fOUD-bFvU",
    "outputId": "c0cd50e3-5306-4879-b9b0-e176f8ebd941"
   },
   "outputs": [
    {
     "data": {
      "text/html": [
       "<div>\n",
       "<style scoped>\n",
       "    .dataframe tbody tr th:only-of-type {\n",
       "        vertical-align: middle;\n",
       "    }\n",
       "\n",
       "    .dataframe tbody tr th {\n",
       "        vertical-align: top;\n",
       "    }\n",
       "\n",
       "    .dataframe thead th {\n",
       "        text-align: right;\n",
       "    }\n",
       "</style>\n",
       "<table border=\"1\" class=\"dataframe\">\n",
       "  <thead>\n",
       "    <tr style=\"text-align: right;\">\n",
       "      <th></th>\n",
       "      <th>name</th>\n",
       "      <th>mfr</th>\n",
       "      <th>type</th>\n",
       "      <th>calories</th>\n",
       "      <th>protein</th>\n",
       "      <th>fat</th>\n",
       "      <th>sodium</th>\n",
       "      <th>fiber</th>\n",
       "      <th>carbo</th>\n",
       "      <th>sugars</th>\n",
       "      <th>potass</th>\n",
       "      <th>vitamins</th>\n",
       "      <th>shelf</th>\n",
       "      <th>weight</th>\n",
       "      <th>cups</th>\n",
       "      <th>rating</th>\n",
       "    </tr>\n",
       "  </thead>\n",
       "  <tbody>\n",
       "    <tr>\n",
       "      <th>0</th>\n",
       "      <td>100% Bran</td>\n",
       "      <td>N</td>\n",
       "      <td>C</td>\n",
       "      <td>70</td>\n",
       "      <td>4</td>\n",
       "      <td>1</td>\n",
       "      <td>130</td>\n",
       "      <td>10.0</td>\n",
       "      <td>5.0</td>\n",
       "      <td>6</td>\n",
       "      <td>280</td>\n",
       "      <td>25</td>\n",
       "      <td>3</td>\n",
       "      <td>1.00</td>\n",
       "      <td>0.33</td>\n",
       "      <td>68.402973</td>\n",
       "    </tr>\n",
       "    <tr>\n",
       "      <th>2</th>\n",
       "      <td>All-Bran</td>\n",
       "      <td>K</td>\n",
       "      <td>C</td>\n",
       "      <td>70</td>\n",
       "      <td>4</td>\n",
       "      <td>1</td>\n",
       "      <td>260</td>\n",
       "      <td>9.0</td>\n",
       "      <td>7.0</td>\n",
       "      <td>5</td>\n",
       "      <td>320</td>\n",
       "      <td>25</td>\n",
       "      <td>3</td>\n",
       "      <td>1.00</td>\n",
       "      <td>0.33</td>\n",
       "      <td>59.425505</td>\n",
       "    </tr>\n",
       "    <tr>\n",
       "      <th>3</th>\n",
       "      <td>All-Bran with Extra Fiber</td>\n",
       "      <td>K</td>\n",
       "      <td>C</td>\n",
       "      <td>50</td>\n",
       "      <td>4</td>\n",
       "      <td>0</td>\n",
       "      <td>140</td>\n",
       "      <td>14.0</td>\n",
       "      <td>8.0</td>\n",
       "      <td>0</td>\n",
       "      <td>330</td>\n",
       "      <td>25</td>\n",
       "      <td>3</td>\n",
       "      <td>1.00</td>\n",
       "      <td>0.50</td>\n",
       "      <td>93.704912</td>\n",
       "    </tr>\n",
       "    <tr>\n",
       "      <th>8</th>\n",
       "      <td>Bran Chex</td>\n",
       "      <td>R</td>\n",
       "      <td>C</td>\n",
       "      <td>90</td>\n",
       "      <td>2</td>\n",
       "      <td>1</td>\n",
       "      <td>200</td>\n",
       "      <td>4.0</td>\n",
       "      <td>15.0</td>\n",
       "      <td>6</td>\n",
       "      <td>125</td>\n",
       "      <td>25</td>\n",
       "      <td>1</td>\n",
       "      <td>1.00</td>\n",
       "      <td>0.67</td>\n",
       "      <td>49.120253</td>\n",
       "    </tr>\n",
       "    <tr>\n",
       "      <th>9</th>\n",
       "      <td>Bran Flakes</td>\n",
       "      <td>P</td>\n",
       "      <td>C</td>\n",
       "      <td>90</td>\n",
       "      <td>3</td>\n",
       "      <td>0</td>\n",
       "      <td>210</td>\n",
       "      <td>5.0</td>\n",
       "      <td>13.0</td>\n",
       "      <td>5</td>\n",
       "      <td>190</td>\n",
       "      <td>25</td>\n",
       "      <td>3</td>\n",
       "      <td>1.00</td>\n",
       "      <td>0.67</td>\n",
       "      <td>53.313813</td>\n",
       "    </tr>\n",
       "    <tr>\n",
       "      <th>11</th>\n",
       "      <td>Cheerios</td>\n",
       "      <td>G</td>\n",
       "      <td>C</td>\n",
       "      <td>110</td>\n",
       "      <td>6</td>\n",
       "      <td>2</td>\n",
       "      <td>290</td>\n",
       "      <td>2.0</td>\n",
       "      <td>17.0</td>\n",
       "      <td>1</td>\n",
       "      <td>105</td>\n",
       "      <td>25</td>\n",
       "      <td>1</td>\n",
       "      <td>1.00</td>\n",
       "      <td>1.25</td>\n",
       "      <td>50.764999</td>\n",
       "    </tr>\n",
       "    <tr>\n",
       "      <th>20</th>\n",
       "      <td>Cream of Wheat (Quick)</td>\n",
       "      <td>N</td>\n",
       "      <td>H</td>\n",
       "      <td>100</td>\n",
       "      <td>3</td>\n",
       "      <td>0</td>\n",
       "      <td>80</td>\n",
       "      <td>1.0</td>\n",
       "      <td>21.0</td>\n",
       "      <td>0</td>\n",
       "      <td>-1</td>\n",
       "      <td>0</td>\n",
       "      <td>2</td>\n",
       "      <td>1.00</td>\n",
       "      <td>1.00</td>\n",
       "      <td>64.533816</td>\n",
       "    </tr>\n",
       "    <tr>\n",
       "      <th>21</th>\n",
       "      <td>Crispix</td>\n",
       "      <td>K</td>\n",
       "      <td>C</td>\n",
       "      <td>110</td>\n",
       "      <td>2</td>\n",
       "      <td>0</td>\n",
       "      <td>220</td>\n",
       "      <td>1.0</td>\n",
       "      <td>21.0</td>\n",
       "      <td>3</td>\n",
       "      <td>30</td>\n",
       "      <td>25</td>\n",
       "      <td>3</td>\n",
       "      <td>1.00</td>\n",
       "      <td>1.00</td>\n",
       "      <td>46.895644</td>\n",
       "    </tr>\n",
       "    <tr>\n",
       "      <th>26</th>\n",
       "      <td>Frosted Mini-Wheats</td>\n",
       "      <td>K</td>\n",
       "      <td>C</td>\n",
       "      <td>100</td>\n",
       "      <td>3</td>\n",
       "      <td>0</td>\n",
       "      <td>0</td>\n",
       "      <td>3.0</td>\n",
       "      <td>14.0</td>\n",
       "      <td>7</td>\n",
       "      <td>100</td>\n",
       "      <td>25</td>\n",
       "      <td>2</td>\n",
       "      <td>1.00</td>\n",
       "      <td>0.80</td>\n",
       "      <td>58.345141</td>\n",
       "    </tr>\n",
       "    <tr>\n",
       "      <th>32</th>\n",
       "      <td>Grape Nuts Flakes</td>\n",
       "      <td>P</td>\n",
       "      <td>C</td>\n",
       "      <td>100</td>\n",
       "      <td>3</td>\n",
       "      <td>1</td>\n",
       "      <td>140</td>\n",
       "      <td>3.0</td>\n",
       "      <td>15.0</td>\n",
       "      <td>5</td>\n",
       "      <td>85</td>\n",
       "      <td>25</td>\n",
       "      <td>3</td>\n",
       "      <td>1.00</td>\n",
       "      <td>0.88</td>\n",
       "      <td>52.076897</td>\n",
       "    </tr>\n",
       "    <tr>\n",
       "      <th>33</th>\n",
       "      <td>Grape-Nuts</td>\n",
       "      <td>P</td>\n",
       "      <td>C</td>\n",
       "      <td>110</td>\n",
       "      <td>3</td>\n",
       "      <td>0</td>\n",
       "      <td>170</td>\n",
       "      <td>3.0</td>\n",
       "      <td>17.0</td>\n",
       "      <td>3</td>\n",
       "      <td>90</td>\n",
       "      <td>25</td>\n",
       "      <td>3</td>\n",
       "      <td>1.00</td>\n",
       "      <td>0.25</td>\n",
       "      <td>53.371007</td>\n",
       "    </tr>\n",
       "    <tr>\n",
       "      <th>43</th>\n",
       "      <td>Maypo</td>\n",
       "      <td>A</td>\n",
       "      <td>H</td>\n",
       "      <td>100</td>\n",
       "      <td>4</td>\n",
       "      <td>1</td>\n",
       "      <td>0</td>\n",
       "      <td>0.0</td>\n",
       "      <td>16.0</td>\n",
       "      <td>3</td>\n",
       "      <td>95</td>\n",
       "      <td>25</td>\n",
       "      <td>2</td>\n",
       "      <td>1.00</td>\n",
       "      <td>1.00</td>\n",
       "      <td>54.850917</td>\n",
       "    </tr>\n",
       "    <tr>\n",
       "      <th>50</th>\n",
       "      <td>Nutri-grain Wheat</td>\n",
       "      <td>K</td>\n",
       "      <td>C</td>\n",
       "      <td>90</td>\n",
       "      <td>3</td>\n",
       "      <td>0</td>\n",
       "      <td>170</td>\n",
       "      <td>3.0</td>\n",
       "      <td>18.0</td>\n",
       "      <td>2</td>\n",
       "      <td>90</td>\n",
       "      <td>25</td>\n",
       "      <td>3</td>\n",
       "      <td>1.00</td>\n",
       "      <td>1.00</td>\n",
       "      <td>59.642837</td>\n",
       "    </tr>\n",
       "    <tr>\n",
       "      <th>54</th>\n",
       "      <td>Puffed Rice</td>\n",
       "      <td>Q</td>\n",
       "      <td>C</td>\n",
       "      <td>50</td>\n",
       "      <td>1</td>\n",
       "      <td>0</td>\n",
       "      <td>0</td>\n",
       "      <td>0.0</td>\n",
       "      <td>13.0</td>\n",
       "      <td>0</td>\n",
       "      <td>15</td>\n",
       "      <td>0</td>\n",
       "      <td>3</td>\n",
       "      <td>0.50</td>\n",
       "      <td>1.00</td>\n",
       "      <td>60.756112</td>\n",
       "    </tr>\n",
       "    <tr>\n",
       "      <th>55</th>\n",
       "      <td>Puffed Wheat</td>\n",
       "      <td>Q</td>\n",
       "      <td>C</td>\n",
       "      <td>50</td>\n",
       "      <td>2</td>\n",
       "      <td>0</td>\n",
       "      <td>0</td>\n",
       "      <td>1.0</td>\n",
       "      <td>10.0</td>\n",
       "      <td>0</td>\n",
       "      <td>50</td>\n",
       "      <td>0</td>\n",
       "      <td>3</td>\n",
       "      <td>0.50</td>\n",
       "      <td>1.00</td>\n",
       "      <td>63.005645</td>\n",
       "    </tr>\n",
       "    <tr>\n",
       "      <th>56</th>\n",
       "      <td>Quaker Oat Squares</td>\n",
       "      <td>Q</td>\n",
       "      <td>C</td>\n",
       "      <td>100</td>\n",
       "      <td>4</td>\n",
       "      <td>1</td>\n",
       "      <td>135</td>\n",
       "      <td>2.0</td>\n",
       "      <td>14.0</td>\n",
       "      <td>6</td>\n",
       "      <td>110</td>\n",
       "      <td>25</td>\n",
       "      <td>3</td>\n",
       "      <td>1.00</td>\n",
       "      <td>0.50</td>\n",
       "      <td>49.511874</td>\n",
       "    </tr>\n",
       "    <tr>\n",
       "      <th>57</th>\n",
       "      <td>Quaker Oatmeal</td>\n",
       "      <td>Q</td>\n",
       "      <td>H</td>\n",
       "      <td>100</td>\n",
       "      <td>5</td>\n",
       "      <td>2</td>\n",
       "      <td>0</td>\n",
       "      <td>2.7</td>\n",
       "      <td>-1.0</td>\n",
       "      <td>-1</td>\n",
       "      <td>110</td>\n",
       "      <td>0</td>\n",
       "      <td>1</td>\n",
       "      <td>1.00</td>\n",
       "      <td>0.67</td>\n",
       "      <td>50.828392</td>\n",
       "    </tr>\n",
       "    <tr>\n",
       "      <th>60</th>\n",
       "      <td>Raisin Squares</td>\n",
       "      <td>K</td>\n",
       "      <td>C</td>\n",
       "      <td>90</td>\n",
       "      <td>2</td>\n",
       "      <td>0</td>\n",
       "      <td>0</td>\n",
       "      <td>2.0</td>\n",
       "      <td>15.0</td>\n",
       "      <td>6</td>\n",
       "      <td>110</td>\n",
       "      <td>25</td>\n",
       "      <td>3</td>\n",
       "      <td>1.00</td>\n",
       "      <td>0.50</td>\n",
       "      <td>55.333142</td>\n",
       "    </tr>\n",
       "    <tr>\n",
       "      <th>63</th>\n",
       "      <td>Shredded Wheat</td>\n",
       "      <td>N</td>\n",
       "      <td>C</td>\n",
       "      <td>80</td>\n",
       "      <td>2</td>\n",
       "      <td>0</td>\n",
       "      <td>0</td>\n",
       "      <td>3.0</td>\n",
       "      <td>16.0</td>\n",
       "      <td>0</td>\n",
       "      <td>95</td>\n",
       "      <td>0</td>\n",
       "      <td>1</td>\n",
       "      <td>0.83</td>\n",
       "      <td>1.00</td>\n",
       "      <td>68.235885</td>\n",
       "    </tr>\n",
       "    <tr>\n",
       "      <th>64</th>\n",
       "      <td>Shredded Wheat 'n'Bran</td>\n",
       "      <td>N</td>\n",
       "      <td>C</td>\n",
       "      <td>90</td>\n",
       "      <td>3</td>\n",
       "      <td>0</td>\n",
       "      <td>0</td>\n",
       "      <td>4.0</td>\n",
       "      <td>19.0</td>\n",
       "      <td>0</td>\n",
       "      <td>140</td>\n",
       "      <td>0</td>\n",
       "      <td>1</td>\n",
       "      <td>1.00</td>\n",
       "      <td>0.67</td>\n",
       "      <td>74.472949</td>\n",
       "    </tr>\n",
       "    <tr>\n",
       "      <th>65</th>\n",
       "      <td>Shredded Wheat spoon size</td>\n",
       "      <td>N</td>\n",
       "      <td>C</td>\n",
       "      <td>90</td>\n",
       "      <td>3</td>\n",
       "      <td>0</td>\n",
       "      <td>0</td>\n",
       "      <td>3.0</td>\n",
       "      <td>20.0</td>\n",
       "      <td>0</td>\n",
       "      <td>120</td>\n",
       "      <td>0</td>\n",
       "      <td>1</td>\n",
       "      <td>1.00</td>\n",
       "      <td>0.67</td>\n",
       "      <td>72.801787</td>\n",
       "    </tr>\n",
       "    <tr>\n",
       "      <th>67</th>\n",
       "      <td>Special K</td>\n",
       "      <td>K</td>\n",
       "      <td>C</td>\n",
       "      <td>110</td>\n",
       "      <td>6</td>\n",
       "      <td>0</td>\n",
       "      <td>230</td>\n",
       "      <td>1.0</td>\n",
       "      <td>16.0</td>\n",
       "      <td>3</td>\n",
       "      <td>55</td>\n",
       "      <td>25</td>\n",
       "      <td>1</td>\n",
       "      <td>1.00</td>\n",
       "      <td>1.00</td>\n",
       "      <td>53.131324</td>\n",
       "    </tr>\n",
       "    <tr>\n",
       "      <th>68</th>\n",
       "      <td>Strawberry Fruit Wheats</td>\n",
       "      <td>N</td>\n",
       "      <td>C</td>\n",
       "      <td>90</td>\n",
       "      <td>2</td>\n",
       "      <td>0</td>\n",
       "      <td>15</td>\n",
       "      <td>3.0</td>\n",
       "      <td>15.0</td>\n",
       "      <td>5</td>\n",
       "      <td>90</td>\n",
       "      <td>25</td>\n",
       "      <td>2</td>\n",
       "      <td>1.00</td>\n",
       "      <td>1.00</td>\n",
       "      <td>59.363993</td>\n",
       "    </tr>\n",
       "    <tr>\n",
       "      <th>71</th>\n",
       "      <td>Total Whole Grain</td>\n",
       "      <td>G</td>\n",
       "      <td>C</td>\n",
       "      <td>100</td>\n",
       "      <td>3</td>\n",
       "      <td>1</td>\n",
       "      <td>200</td>\n",
       "      <td>3.0</td>\n",
       "      <td>16.0</td>\n",
       "      <td>3</td>\n",
       "      <td>110</td>\n",
       "      <td>100</td>\n",
       "      <td>3</td>\n",
       "      <td>1.00</td>\n",
       "      <td>1.00</td>\n",
       "      <td>46.658844</td>\n",
       "    </tr>\n",
       "    <tr>\n",
       "      <th>74</th>\n",
       "      <td>Wheat Chex</td>\n",
       "      <td>R</td>\n",
       "      <td>C</td>\n",
       "      <td>100</td>\n",
       "      <td>3</td>\n",
       "      <td>1</td>\n",
       "      <td>230</td>\n",
       "      <td>3.0</td>\n",
       "      <td>17.0</td>\n",
       "      <td>3</td>\n",
       "      <td>115</td>\n",
       "      <td>25</td>\n",
       "      <td>1</td>\n",
       "      <td>1.00</td>\n",
       "      <td>0.67</td>\n",
       "      <td>49.787445</td>\n",
       "    </tr>\n",
       "    <tr>\n",
       "      <th>75</th>\n",
       "      <td>Wheaties</td>\n",
       "      <td>G</td>\n",
       "      <td>C</td>\n",
       "      <td>100</td>\n",
       "      <td>3</td>\n",
       "      <td>1</td>\n",
       "      <td>200</td>\n",
       "      <td>3.0</td>\n",
       "      <td>17.0</td>\n",
       "      <td>3</td>\n",
       "      <td>110</td>\n",
       "      <td>25</td>\n",
       "      <td>1</td>\n",
       "      <td>1.00</td>\n",
       "      <td>1.00</td>\n",
       "      <td>51.592193</td>\n",
       "    </tr>\n",
       "  </tbody>\n",
       "</table>\n",
       "</div>"
      ],
      "text/plain": [
       "                         name mfr type  ...  weight  cups     rating\n",
       "0                   100% Bran   N    C  ...    1.00  0.33  68.402973\n",
       "2                    All-Bran   K    C  ...    1.00  0.33  59.425505\n",
       "3   All-Bran with Extra Fiber   K    C  ...    1.00  0.50  93.704912\n",
       "8                   Bran Chex   R    C  ...    1.00  0.67  49.120253\n",
       "9                 Bran Flakes   P    C  ...    1.00  0.67  53.313813\n",
       "11                   Cheerios   G    C  ...    1.00  1.25  50.764999\n",
       "20     Cream of Wheat (Quick)   N    H  ...    1.00  1.00  64.533816\n",
       "21                    Crispix   K    C  ...    1.00  1.00  46.895644\n",
       "26        Frosted Mini-Wheats   K    C  ...    1.00  0.80  58.345141\n",
       "32          Grape Nuts Flakes   P    C  ...    1.00  0.88  52.076897\n",
       "33                 Grape-Nuts   P    C  ...    1.00  0.25  53.371007\n",
       "43                      Maypo   A    H  ...    1.00  1.00  54.850917\n",
       "50          Nutri-grain Wheat   K    C  ...    1.00  1.00  59.642837\n",
       "54                Puffed Rice   Q    C  ...    0.50  1.00  60.756112\n",
       "55               Puffed Wheat   Q    C  ...    0.50  1.00  63.005645\n",
       "56         Quaker Oat Squares   Q    C  ...    1.00  0.50  49.511874\n",
       "57             Quaker Oatmeal   Q    H  ...    1.00  0.67  50.828392\n",
       "60             Raisin Squares   K    C  ...    1.00  0.50  55.333142\n",
       "63             Shredded Wheat   N    C  ...    0.83  1.00  68.235885\n",
       "64     Shredded Wheat 'n'Bran   N    C  ...    1.00  0.67  74.472949\n",
       "65  Shredded Wheat spoon size   N    C  ...    1.00  0.67  72.801787\n",
       "67                  Special K   K    C  ...    1.00  1.00  53.131324\n",
       "68    Strawberry Fruit Wheats   N    C  ...    1.00  1.00  59.363993\n",
       "71          Total Whole Grain   G    C  ...    1.00  1.00  46.658844\n",
       "74                 Wheat Chex   R    C  ...    1.00  0.67  49.787445\n",
       "75                   Wheaties   G    C  ...    1.00  1.00  51.592193\n",
       "\n",
       "[26 rows x 16 columns]"
      ]
     },
     "execution_count": 131,
     "metadata": {},
     "output_type": "execute_result"
    }
   ],
   "source": [
    "cereal[(cereal['rating']>=46 )| (cereal['shelf']==4)] "
   ]
  },
  {
   "cell_type": "code",
   "execution_count": 136,
   "metadata": {
    "colab": {
     "base_uri": "https://localhost:8080/",
     "height": 110
    },
    "id": "KwY141OBbS3u",
    "outputId": "d2e1b08f-b017-4ba8-92f9-29e7fd616a08"
   },
   "outputs": [
    {
     "data": {
      "text/html": [
       "<div>\n",
       "<style scoped>\n",
       "    .dataframe tbody tr th:only-of-type {\n",
       "        vertical-align: middle;\n",
       "    }\n",
       "\n",
       "    .dataframe tbody tr th {\n",
       "        vertical-align: top;\n",
       "    }\n",
       "\n",
       "    .dataframe thead th {\n",
       "        text-align: right;\n",
       "    }\n",
       "</style>\n",
       "<table border=\"1\" class=\"dataframe\">\n",
       "  <thead>\n",
       "    <tr style=\"text-align: right;\">\n",
       "      <th></th>\n",
       "      <th>name</th>\n",
       "      <th>mfr</th>\n",
       "      <th>type</th>\n",
       "      <th>calories</th>\n",
       "      <th>protein</th>\n",
       "      <th>fat</th>\n",
       "      <th>sodium</th>\n",
       "      <th>fiber</th>\n",
       "      <th>carbo</th>\n",
       "      <th>sugars</th>\n",
       "      <th>potass</th>\n",
       "      <th>vitamins</th>\n",
       "      <th>shelf</th>\n",
       "      <th>weight</th>\n",
       "      <th>cups</th>\n",
       "      <th>rating</th>\n",
       "    </tr>\n",
       "  </thead>\n",
       "  <tbody>\n",
       "    <tr>\n",
       "      <th>68</th>\n",
       "      <td>Strawberry Fruit Wheats</td>\n",
       "      <td>N</td>\n",
       "      <td>C</td>\n",
       "      <td>90</td>\n",
       "      <td>2</td>\n",
       "      <td>0</td>\n",
       "      <td>15</td>\n",
       "      <td>3.0</td>\n",
       "      <td>15.0</td>\n",
       "      <td>5</td>\n",
       "      <td>90</td>\n",
       "      <td>25</td>\n",
       "      <td>2</td>\n",
       "      <td>1.0</td>\n",
       "      <td>1.0</td>\n",
       "      <td>59.363993</td>\n",
       "    </tr>\n",
       "    <tr>\n",
       "      <th>75</th>\n",
       "      <td>Wheaties</td>\n",
       "      <td>G</td>\n",
       "      <td>C</td>\n",
       "      <td>100</td>\n",
       "      <td>3</td>\n",
       "      <td>1</td>\n",
       "      <td>200</td>\n",
       "      <td>3.0</td>\n",
       "      <td>17.0</td>\n",
       "      <td>3</td>\n",
       "      <td>110</td>\n",
       "      <td>25</td>\n",
       "      <td>1</td>\n",
       "      <td>1.0</td>\n",
       "      <td>1.0</td>\n",
       "      <td>51.592193</td>\n",
       "    </tr>\n",
       "  </tbody>\n",
       "</table>\n",
       "</div>"
      ],
      "text/plain": [
       "                       name mfr type  calories  ...  shelf  weight  cups     rating\n",
       "68  Strawberry Fruit Wheats   N    C        90  ...      2     1.0   1.0  59.363993\n",
       "75                 Wheaties   G    C       100  ...      1     1.0   1.0  51.592193\n",
       "\n",
       "[2 rows x 16 columns]"
      ]
     },
     "execution_count": 136,
     "metadata": {},
     "output_type": "execute_result"
    }
   ],
   "source": [
    "bran = cereal[cereal['name'].isin(['Wheaties','Strawberry Fruit Wheats'])]\n",
    "bran"
   ]
  }
 ],
 "metadata": {
  "colab": {
   "authorship_tag": "ABX9TyPJzuP1ZvwWryaYd0IG3mFu",
   "collapsed_sections": [
    "q7r9qtfGwnXg",
    "gB3AqMaIx_Ua",
    "8v-9TpQwyZSM",
    "AKHMGtjr2MH9",
    "CvFpXhIQyQ_P",
    "aya0gftP_Kqi",
    "K8F0VUTX-wO4",
    "n82ChkC-AeMR",
    "6g5ku8aWj6_T",
    "a8vXxvRr_uXX",
    "PRsKfPeOAa_n",
    "TijszbWZ0cvz"
   ],
   "include_colab_link": true,
   "mount_file_id": "1mfqAmFfl5lQZlpswgZFEp9tUk26x5HX7",
   "name": "Python Tutorial 2 .ipynb",
   "provenance": []
  },
  "kernelspec": {
   "display_name": "Python 3",
   "language": "python",
   "name": "python3"
  },
  "language_info": {
   "codemirror_mode": {
    "name": "ipython",
    "version": 3
   },
   "file_extension": ".py",
   "mimetype": "text/x-python",
   "name": "python",
   "nbconvert_exporter": "python",
   "pygments_lexer": "ipython3",
   "version": "3.8.3"
  }
 },
 "nbformat": 4,
 "nbformat_minor": 1
}
